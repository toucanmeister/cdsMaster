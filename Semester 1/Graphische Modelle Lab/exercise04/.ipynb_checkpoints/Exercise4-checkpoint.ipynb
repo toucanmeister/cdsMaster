{
 "cells": [
  {
   "cell_type": "markdown",
   "id": "e5435c02",
   "metadata": {},
   "source": [
    "# Exercise 4 - Tensor Networks\n",
    "In this exercise, we will inspect the canonical parameterization of a graphical model and calculate the normalization constant to answer inference queries.\n",
    "\n",
    "Later, we will compare the speed of calculating the normalization constant using different orders of tensor contractions.\n",
    "\n",
    "In the event of a persistent problem, do not hesitate to contact the course instructors under\n",
    "- paul.kahlmeyer@uni-jena.de\n",
    "\n",
    "### Submission\n",
    "\n",
    "- Deadline of submission:\n",
    "        27.11.2022\n",
    "- Submission on [moodle page](https://moodle.uni-jena.de/course/view.php?id=34630)\n",
    "\n",
    "### Help\n",
    "In case you cannot solve a task, you can use the saved values within the `help` directory:\n",
    "- Load arrays with [Numpy](https://numpy.org/doc/stable/reference/generated/numpy.load.html)\n",
    "```\n",
    "np.load('help/array_name.npy')\n",
    "```\n",
    "- Load functions with [Dill](https://dill.readthedocs.io/en/latest/dill.html)\n",
    "```\n",
    "import dill\n",
    "with open('help/some_func.pkl', 'rb') as f:\n",
    "    func = dill.load(f)\n",
    "```\n",
    "\n",
    "to continue working on the other tasks."
   ]
  },
  {
   "cell_type": "markdown",
   "id": "899ed19d",
   "metadata": {},
   "source": [
    "## Graphical Models\n",
    "Let $p(x)$ be a multivariate categorical on the sample space $\\mathcal{X}$.\n",
    "In the canonical parameterization we define $p$ to be an exponentiated sum of interaction order parameters:\n",
    "\\begin{align}\n",
    "p(x) = \\exp\\left(q(x)\\right)\\,,\n",
    "\\end{align}\n",
    "where $q(x)$ is a sum of all possible interaction orders\n",
    "\\begin{align}\n",
    "q(x) = \\sum\\limits_{k=1}^n\\sum\\limits_{i=(i_1,\\dots,i_k)}q_i(x_{i_1}, \\dots, x_{i_k})\\,.\n",
    "\\end{align}\n",
    "In graphical models, we reduce the number of parameters by setting specific interactions $q_i$ to 0.\n",
    "\n",
    "This notation is a little confusing, so lets exercise trough a **concrete example**.\n",
    "\n",
    "Consider a multivariate categorical $p(x_0,x_1,x_2,x_3)$.\n",
    "Furthermore we restrict ourselves to unary and pairwise interaction orders (interactions of order >2 have been set to 0).\n",
    "\n",
    "This means, that we have single interaction parameter vectors $q_0, q_1, q_2, q_3$ and parwise interaction parameter matrices $q_{01}, q_{02}, q_{03}, q_{12}, q_{13}, q_{23}$.\n",
    "The $q_i$ hold the (unary) interaction parameters for $x_i$ and $q_{ij}$ holds the interaction parameters for $x_i$ and $x_j$.\n",
    "\n",
    "With these parameters, the canonical parameterization from above looks like this:\n",
    "\\begin{align}\n",
    "q(x = [v_0, v_1, v_2, v_3]^T) &=\\sum_{i=0}^3 q_i[v_i] + \\sum_{j=0, j > i}^3 q_{ij}[v_i, v_j]\\\\\n",
    "&=q_0[v_0] + q_1[v_1] + q_2[v_2] + q_3[v_3]\\\\\n",
    "&+q_{01}[v_0, v_1] + q_{02}[v_0, v_2] + q_{03}[v_0, v_3]\\\\\n",
    "&+q_{12}[v_1, v_2]+q_{13}[v_1, v_3]\\\\\n",
    "&+q_{23}[v_2, v_3]\\,.\n",
    "\\end{align}\n",
    "\n",
    "\n",
    "\n",
    "### Task 1\n",
    "\n",
    "Load $q_i$ and $q_ij$ from the pickeled files `q_i.p` and `q_ij.p` respectively.\n",
    "How large are the sample spaces for each $x_i$?"
   ]
  },
  {
   "cell_type": "code",
   "execution_count": 1,
   "id": "d550119b",
   "metadata": {},
   "outputs": [
    {
     "data": {
      "text/plain": [
       "[15, 50, 100, 10]"
      ]
     },
     "execution_count": 1,
     "metadata": {},
     "output_type": "execute_result"
    }
   ],
   "source": [
    "import dill\n",
    "import numpy as np\n",
    "with open('q_i.p', 'rb') as f:\n",
    "    q_i = dill.load(f)\n",
    "with open('q_ij.p', 'rb') as f:\n",
    "    q_ij = dill.load(f)\n",
    "space_sizes = [len(x) for x in q_i]\n",
    "space_sizes"
   ]
  },
  {
   "cell_type": "markdown",
   "id": "9355ca1b",
   "metadata": {},
   "source": [
    "## Normalization Constant\n",
    "\n",
    "Here we have unnormalized probabilities, so we need to calculate the normalization constant first\n",
    "\\begin{align}\n",
    "K &= \\sum_{x}p(x)\\\\\n",
    "&= \\sum_{x}\\exp\\left(q(x)\\right)\\\\\n",
    "&= \\sum_{x}\\prod_{i} \\exp(q_i[x_i])\\prod_{j > i} \\exp(q_{ij}[x_i, x_j])\\\\\n",
    "&= \\sum_{x}\\prod_{i} t_i[x_i]\\prod_{j > i} t_{ij}[x_i, x_j]\\,,\n",
    "\\end{align}\n",
    "where $t_i = \\exp(q_i)$ and $t_{ij} = \\exp(q_{ij})$ with the elementwise exponential function.\n",
    "\n",
    "### Task 2\n",
    "\n",
    "A straighforward way to calculate this constant is iterating over every $x$ and summing up the $p(x)$.\n",
    "\n",
    "Calculate $K$ using for loops."
   ]
  },
  {
   "cell_type": "code",
   "execution_count": 3,
   "id": "60f9ed8d",
   "metadata": {},
   "outputs": [
    {
     "data": {
      "text/plain": [
       "159744720.1663634"
      ]
     },
     "execution_count": 3,
     "metadata": {},
     "output_type": "execute_result"
    }
   ],
   "source": [
    "import itertools\n",
    "def norm_const_naive(t_i:list, t_ij:list) -> float:\n",
    "    '''\n",
    "    Calculates normalization constant by iterating over each x.\n",
    "    \n",
    "    @Params:\n",
    "        t_i... unary interaction parameters (exponentiated)\n",
    "        t_ij... binary interaction parameters (exponentiated)\n",
    "\n",
    "    @Returns:\n",
    "        normalization constant\n",
    "    '''\n",
    "    ranges = [range(len(t_i[x])) for x in range(len(t_i))] # Ranges containing indices for each feature\n",
    "    xs = itertools.product(*ranges) # All possible multi-indices\n",
    "    s = 0\n",
    "    for x in xs:\n",
    "        p = 1\n",
    "        for i in range(len(t_i)):\n",
    "            p *= t_i[i][x[i]]\n",
    "            for j in range(len(t_i)):\n",
    "                if j > i:\n",
    "                    p *= t_ij[i][j][x[i]][x[j]]\n",
    "        s += p\n",
    "    return s\n",
    "\n",
    "t_i = [np.exp(x) for x in q_i]\n",
    "t_ij = [[np.exp(x) for x in q_inner] for q_inner in q_ij]\n",
    "K = norm_const_naive(t_i, t_ij)\n",
    "K"
   ]
  },
  {
   "cell_type": "markdown",
   "id": "9fd774af",
   "metadata": {},
   "source": [
    "## Inference Queries\n",
    "\n",
    "With this normalization constant, we can now actually calculate probabilities and answer inference queries.\n",
    "\n",
    "### Task 3\n",
    "Calculate the prior marginal \n",
    "\\begin{align}\n",
    "p(x_3)\\,.\n",
    "\\end{align}"
   ]
  },
  {
   "cell_type": "code",
   "execution_count": 3,
   "id": "d11f754e",
   "metadata": {},
   "outputs": [
    {
     "data": {
      "text/plain": [
       "array([0.00879772, 0.01169877, 0.00651817, 0.01446938, 0.00709923,\n",
       "       0.01425781, 0.00753366, 0.01436575, 0.00900863, 0.01185483,\n",
       "       0.00512198, 0.0087633 , 0.0055628 , 0.00806047, 0.00558564,\n",
       "       0.00796673, 0.00881161, 0.00508333, 0.01033149, 0.01022891,\n",
       "       0.00783624, 0.00933844, 0.00577802, 0.01019469, 0.01415153,\n",
       "       0.00752854, 0.01109822, 0.00543556, 0.01140845, 0.00682193,\n",
       "       0.00538809, 0.01115068, 0.00699935, 0.01391158, 0.00538041,\n",
       "       0.01152469, 0.00931455, 0.01101375, 0.0160934 , 0.00721566,\n",
       "       0.00951947, 0.00878677, 0.01142611, 0.00707002, 0.01209959,\n",
       "       0.00803305, 0.01332485, 0.01158588, 0.00727241, 0.01215217,\n",
       "       0.00861954, 0.01421548, 0.00940168, 0.01625568, 0.0118876 ,\n",
       "       0.01437833, 0.00830323, 0.0146015 , 0.01115906, 0.01009373,\n",
       "       0.01081118, 0.00500729, 0.00971673, 0.01183612, 0.00739292,\n",
       "       0.01145389, 0.00939361, 0.00678895, 0.00870947, 0.0069429 ,\n",
       "       0.01281083, 0.00868186, 0.01071913, 0.01269037, 0.00819537,\n",
       "       0.01435116, 0.00818135, 0.0090295 , 0.01482347, 0.01182084,\n",
       "       0.01098712, 0.0065113 , 0.01047076, 0.0113224 , 0.01758956,\n",
       "       0.00668859, 0.01267607, 0.00556029, 0.00936013, 0.00615601,\n",
       "       0.01292409, 0.01237607, 0.0093022 , 0.00832068, 0.00696106,\n",
       "       0.01080952, 0.0090279 , 0.01286542, 0.01345921, 0.01838453])"
      ]
     },
     "execution_count": 3,
     "metadata": {},
     "output_type": "execute_result"
    }
   ],
   "source": [
    "marginal = []\n",
    "for x3_idx in range(space_sizes[2]):\n",
    "    ranges = [range(space_sizes[0]), range(space_sizes[1]), [x3_idx], range(space_sizes[3])]\n",
    "    xs = itertools.product(*ranges)\n",
    "    s = 0\n",
    "    for x in xs:\n",
    "        p = 1\n",
    "        for i in range(len(t_i)):\n",
    "            p *= t_i[i][x[i]]\n",
    "            for j in range(len(t_i)):\n",
    "                if j > i:\n",
    "                    p *= t_ij[i][j][x[i]][x[j]]\n",
    "        s += p\n",
    "    marginal.append(s)\n",
    "marginal/K"
   ]
  },
  {
   "cell_type": "markdown",
   "id": "0c35fb1d",
   "metadata": {
    "tags": []
   },
   "source": [
    "### Task 4\n",
    "\n",
    "Calculate the probability \n",
    "\\begin{equation}\n",
    "p(x_2>20)\\,.\n",
    "\\end{equation}"
   ]
  },
  {
   "cell_type": "code",
   "execution_count": 4,
   "id": "10108aea",
   "metadata": {},
   "outputs": [
    {
     "data": {
      "text/plain": [
       "0.5806563926647166"
      ]
     },
     "execution_count": 4,
     "metadata": {},
     "output_type": "execute_result"
    }
   ],
   "source": [
    "marginal = []\n",
    "for x2_idx in range(space_sizes[1]):\n",
    "    ranges = [range(space_sizes[0]), [x2_idx], range(space_sizes[2]), range(space_sizes[3])]\n",
    "    xs = itertools.product(*ranges)\n",
    "    s = 0\n",
    "    for x in xs:\n",
    "        p = 1\n",
    "        for i in range(len(t_i)):\n",
    "            p *= t_i[i][x[i]]\n",
    "            for j in range(len(t_i)):\n",
    "                if j > i:\n",
    "                    p *= t_ij[i][j][x[i]][x[j]]\n",
    "        s += p\n",
    "    marginal.append(s)\n",
    "sum((marginal/K)[20:])"
   ]
  },
  {
   "cell_type": "markdown",
   "id": "25959146",
   "metadata": {},
   "source": [
    "## Tensor Contraction\n",
    "Calculating $K$ by iterating over every $x$ is quite slow.\n",
    "Lets look at how we can speed up this calculation.\n",
    "\n",
    "We can rewrite the calculation of $K$ as\n",
    "\n",
    "\\begin{align}\n",
    "K &= \\sum_{x}p(x)\\\\\n",
    "&= \\sum_{x}\\prod_{i} \\exp(q_i[x_i])\\prod_{j > i} \\exp(q_{ij}[x_i, x_j])\\\\\n",
    "&= \\sum_{x}\\prod_{i} t_i[x_i]\\prod_{j > i} t_{ij}[x_i, x_j]\\\\\n",
    "&= \\sum_{v_0=1}^{n_0}\\sum_{v_1=1}^{n_1}\\sum_{v_2=1}^{n_2}\\sum_{v_3=1}^{n_3}\\prod_{i} t_i[v_i]\\prod_{j > i} t_{ij}[v_i, v_j]\\,.\n",
    "\\end{align}\n",
    "\n",
    "In this form, calculating the normalization constant boils down to a single tensor contraction. \n",
    "\n",
    "Since contracting tensors in numpy is implemented in C under the hood, we can expect a significant speedup.\n",
    "\n",
    "### Task 5\n",
    "Calculate the normalization constant using a **single** contraction using the [Einstein-Summation](https://numpy.org/doc/stable/reference/generated/numpy.einsum.html).\n",
    "\n",
    "For a brief introduction into `einsum`, see [here](https://ajcr.net/Basic-guide-to-einsum/) and [here](https://medium.com/ibm-data-ai/einsum-an-easy-intuitive-way-to-write-tensor-operation-9e12b8a80570).\n",
    "\n",
    "Make sure that you result is correct by comparing the result to the naive implementation."
   ]
  },
  {
   "cell_type": "code",
   "execution_count": 37,
   "id": "673b26c0",
   "metadata": {},
   "outputs": [
    {
     "data": {
      "text/plain": [
       "159744720.16636375"
      ]
     },
     "execution_count": 37,
     "metadata": {},
     "output_type": "execute_result"
    }
   ],
   "source": [
    "np.einsum('i,j,k,l,ij,ik,il,jk,jl,kl->', *t_i, t_ij[0][1], t_ij[0][2], t_ij[0][3], t_ij[1][2], t_ij[1][3], t_ij[2][3])"
   ]
  },
  {
   "cell_type": "markdown",
   "id": "72f4a4ff",
   "metadata": {},
   "source": [
    "### Task 6\n",
    "\n",
    "Compare the execution times of calculating $K$ the naive way vs. using `einsum`."
   ]
  },
  {
   "cell_type": "code",
   "execution_count": 5,
   "id": "a58dd5da",
   "metadata": {},
   "outputs": [
    {
     "name": "stdout",
     "output_type": "stream",
     "text": [
      "Naive took 3.0428404808044434 seconds, while smart took 0.012710094451904297 seconds.\n"
     ]
    }
   ],
   "source": [
    "import time\n",
    "\n",
    "start_naive = time.time()\n",
    "norm_const_naive(t_i, t_ij)\n",
    "end_naive = time.time()\n",
    "\n",
    "start_smart = time.time()\n",
    "np.einsum('i,j,k,l,ij,ik,il,jk,jl,kl->', *t_i, t_ij[0][1], t_ij[0][2], t_ij[0][3], t_ij[1][2], t_ij[1][3], t_ij[2][3])\n",
    "end_smart = time.time()\n",
    "\n",
    "print(f'Naive took {end_naive-start_naive} seconds, while smart took {end_smart-start_smart} seconds.')"
   ]
  },
  {
   "cell_type": "markdown",
   "id": "f2d6c533",
   "metadata": {},
   "source": [
    "## Contraction order\n",
    "\n",
    "We see that using contraction speeds up the calculation. This however is not the end of optimization:\\\n",
    "The order of contraction can be permutated, potentially reducing the number of calculations. Here we want to permutate the order in which the variables are marginalized out.\n",
    "\n",
    "For example for two variables $x_0, x_1$:\n",
    "\\begin{align}\n",
    "K &= \\sum_{v_0=1}^{n_0}\\sum_{v_1=1}^{n_1} t_0[v_0]t_1[v_1]t_{01}[v_0, v_1]\\\\\n",
    "(1) &= \\sum_{v_0=1}^{n_0}t_0[v_0]\\sum_{v_1=1}^{n_1}t_1[v_1]t_{01}[v_0, v_1]\\\\\n",
    "(2) &= \\sum_{v_1=1}^{n_1}t_1[v_1]\\sum_{v_0=1}^{n_0}t_0[v_1]t_{01}[v_0, v_1]\\\\\n",
    "\\end{align}\n",
    "\n",
    "Can be calculated as (1)\n",
    "1. Contracting $t_{01}$ and $t_{1}$ over the index $x_1$\n",
    "2. Contracting the result from 1. with $t_0$ over the index $x_0$\n",
    "\n",
    "or (2)\n",
    "1. Contracting $t_{01}$ and $t_{0}$ over the index of $x_0$\n",
    "2. Contracting the result from 1. with $t_1$ over the index of $x_1$\n",
    "\n",
    "Depending on the tensor dimensions, one calculation can be faster than the other.\n",
    "\n",
    "\n",
    "### Task 7\n",
    "\n",
    "Implement the following function that contracts the tensors in a given order.\n",
    "\n",
    "As an example for three variables, the order\n",
    "\n",
    "```\n",
    "['i', 'j', 'k']\n",
    "```\n",
    "\n",
    "with the tensor dictionary\n",
    "\n",
    "```\n",
    "tensor_dict = {\n",
    "'i' : t_i,\n",
    "'j' : t_j,\n",
    "'k' : t_k,\n",
    "'ij' : t_ij,\n",
    "'ik' : t_ik,\n",
    "'jk' : t_jk\n",
    "}\n",
    "```\n",
    "will perform the following contractions\n",
    "\n",
    "1. `tmp = np.einsum('i, ij, ik -> jk', t_i, t_ij, t_ik) # marginalize out i`\n",
    "2. `tmp = np.einsum('j, jk, jk -> k', t_j, t_jk, tmp) # marginalize out j`\n",
    "3. `tmp = np.einsum('k, k -> ', t_k, tmp) # marginalize out k`\n",
    "\n",
    "Make sure that the results are correct and compare the times of different marginalization orders to those from Task 6."
   ]
  },
  {
   "cell_type": "code",
   "execution_count": 27,
   "id": "67c4c496",
   "metadata": {},
   "outputs": [
    {
     "data": {
      "text/plain": [
       "159744720.16636378"
      ]
     },
     "execution_count": 27,
     "metadata": {},
     "output_type": "execute_result"
    }
   ],
   "source": [
    "def norm_const_order(order:list, tensor_dict:dict) -> float:\n",
    "    '''\n",
    "    Calculates the normalization constant using tensor contraction with a specific order.\n",
    "    \n",
    "    @Params:\n",
    "        order... list of variables in the order of their marginalization\n",
    "        tensor_dict... dict that stores which tensors are for which variable combination\n",
    "          \n",
    "    @Returns:\n",
    "        normalization constant K\n",
    "    \n",
    "    '''\n",
    "    \n",
    "    result = 1\n",
    "    last_kept_indices = ''\n",
    "    \n",
    "    tensors = tensor_dict.keys()\n",
    "\n",
    "    for index in order:\n",
    "        related_tensors = []\n",
    "        kept_indices = ''\n",
    "        for key in tensors:\n",
    "            if index in key:\n",
    "                related_tensors.append(key) # all the tensors that have this axis\n",
    "                rest = key.replace(index, '')\n",
    "                for r in rest:\n",
    "                    if not r in kept_indices and r in tensors:\n",
    "                        kept_indices += r # keep the indices that are not being marginalized out\n",
    "        einsum_string = f'{\",\".join(related_tensors)},{last_kept_indices} -> {kept_indices}'\n",
    "        result = np.einsum(einsum_string, *[tensor_dict[x] for x in related_tensors], result)\n",
    "        last_kept_indices = kept_indices\n",
    "        tensors = [x for x in tensors if x not in related_tensors]\n",
    "    return result\n",
    "\n",
    "dictionary = {'i': t_i[0],\n",
    "              'j': t_i[1],\n",
    "              'k': t_i[2],\n",
    "              'l': t_i[3],\n",
    "              'ij': t_ij[0][1],\n",
    "              'ik': t_ij[0][2],\n",
    "              'il': t_ij[0][3],\n",
    "              'jk': t_ij[1][2],\n",
    "              'jl': t_ij[1][3],\n",
    "              'kl': t_ij[2][3]}\n",
    "\n",
    "norm_const_order(['i', 'j', 'k', 'l'], dictionary)"
   ]
  },
  {
   "cell_type": "code",
   "execution_count": null,
   "id": "592daf6a-2ccb-44e7-82cc-45c88a4689b0",
   "metadata": {},
   "outputs": [
    {
     "ename": "NameError",
     "evalue": "name 'norm_const_order' is not defined",
     "output_type": "error",
     "traceback": [
      "\u001b[0;31m---------------------------------------------------------------------------\u001b[0m",
      "\u001b[0;31mNameError\u001b[0m                                 Traceback (most recent call last)",
      "Cell \u001b[0;32mIn [6], line 9\u001b[0m\n\u001b[1;32m      7\u001b[0m \u001b[38;5;28;01mfor\u001b[39;00m perm \u001b[38;5;129;01min\u001b[39;00m permutations:\n\u001b[1;32m      8\u001b[0m     start_naive \u001b[38;5;241m=\u001b[39m time\u001b[38;5;241m.\u001b[39mtime()\n\u001b[0;32m----> 9\u001b[0m     \u001b[43mnorm_const_order\u001b[49m(perm, dictionary)\n\u001b[1;32m     10\u001b[0m     end_naive \u001b[38;5;241m=\u001b[39m time\u001b[38;5;241m.\u001b[39mtime()\n\u001b[1;32m     11\u001b[0m     measured_time \u001b[38;5;241m=\u001b[39m end_naive \u001b[38;5;241m-\u001b[39m start_naive\n",
      "\u001b[0;31mNameError\u001b[0m: name 'norm_const_order' is not defined"
     ]
    }
   ],
   "source": [
    "import itertools\n",
    "import time\n",
    "\n",
    "permutations = itertools.permutations(['i', 'j', 'k', 'l'])\n",
    "minimum = 10000\n",
    "minimum_perm = 0\n",
    "for perm in permutations:\n",
    "    start_naive = time.time()\n",
    "    norm_const_order(perm, dictionary)\n",
    "    end_naive = time.time()\n",
    "    measured_time = end_naive - start_naive\n",
    "    if measured_time < minimum:\n",
    "        minimum = measured_time\n",
    "        minimum_perm = perm\n",
    "\n",
    "print(f'Schnellste Kontraktionsreihenfolge: {minimum_perm} mit {minimum}s.')"
   ]
  },
  {
   "cell_type": "markdown",
   "id": "8d916bab",
   "metadata": {},
   "source": [
    "## Optimal contraction order\n",
    "\n",
    "We see that the contraction order has quite a lot of effect on the computation times.\n",
    "\n",
    "In fact, the problem of finding the best contraction order is generally NP-hard and an active area of research.\n",
    "In Python, the package [opt_einsum](https://optimized-einsum.readthedocs.io/en/stable/) provides heuristics to find an (near-)optimal contraction order."
   ]
  },
  {
   "cell_type": "markdown",
   "id": "66ce1a59",
   "metadata": {},
   "source": [
    "### Task 8\n",
    "\n",
    "Use `opt_einsum` to calculate $K$, make sure result is correct.\n",
    "Again measure the execution time and compare to the other methods.\n",
    "\n",
    "Note: if you are interested, you can use `opt_einsum.contract_path` to have a look at the optimal contraction order that was used."
   ]
  },
  {
   "cell_type": "code",
   "execution_count": 10,
   "id": "4f97651e",
   "metadata": {},
   "outputs": [
    {
     "name": "stdout",
     "output_type": "stream",
     "text": [
      "([(1, 8), (1, 7), (0, 4), (0, 6), (0, 3), (3, 4), (0, 2), (1, 2), (0, 1)],   Complete contraction:  i,j,k,l,ij,ik,il,jk,jl,kl->\n",
      "         Naive scaling:  4\n",
      "     Optimized scaling:  4\n",
      "      Naive FLOP count:  7.500e+6\n",
      "  Optimized FLOP count:  1.542e+6\n",
      "   Theoretical speedup:  4.864e+0\n",
      "  Largest intermediate:  1.500e+4 elements\n",
      "--------------------------------------------------------------------------------\n",
      "scaling        BLAS                current                             remaining\n",
      "--------------------------------------------------------------------------------\n",
      "   2              0               jl,j->jl             i,k,l,ij,ik,il,jk,kl,jl->\n",
      "   2              0               kl,k->kl               i,l,ij,ik,il,jk,jl,kl->\n",
      "   2              0               il,i->il                 l,ij,ik,jk,jl,kl,il->\n",
      "   2              0               il,l->il                   ij,ik,jk,jl,kl,il->\n",
      "   3              0             jl,ij->jli                     ik,jk,kl,il,jli->\n",
      "   3              0            jli,il->jli                        ik,jk,kl,jli->\n",
      "   3              0             kl,ik->kli                          jk,jli,kli->\n",
      "   4           GEMM            kli,jli->kj                               jk,kj->\n",
      "   2     DOT/EINSUM                kj,jk->                                    ->)\n",
      "in 0.003095388412475586s.\n"
     ]
    }
   ],
   "source": [
    "from opt_einsum import contract\n",
    "from opt_einsum import contract_path\n",
    "\n",
    "start = time.time()\n",
    "contract('i,j,k,l,ij,ik,il,jk,jl,kl->', *t_i, t_ij[0][1], t_ij[0][2], t_ij[0][3], t_ij[1][2], t_ij[1][3], t_ij[2][3])\n",
    "end = time.time()\n",
    "path = contract_path('i,j,k,l,ij,ik,il,jk,jl,kl->', *t_i, t_ij[0][1], t_ij[0][2], t_ij[0][3], t_ij[1][2], t_ij[1][3], t_ij[2][3])\n",
    "print(path)\n",
    "print(f'in {end-start}s.')"
   ]
  }
 ],
 "metadata": {
  "kernelspec": {
   "display_name": "Python 3 (ipykernel)",
   "language": "python",
   "name": "python3"
  },
  "language_info": {
   "codemirror_mode": {
    "name": "ipython",
    "version": 3
   },
   "file_extension": ".py",
   "mimetype": "text/x-python",
   "name": "python",
   "nbconvert_exporter": "python",
   "pygments_lexer": "ipython3",
   "version": "3.10.6"
  }
 },
 "nbformat": 4,
 "nbformat_minor": 5
}
