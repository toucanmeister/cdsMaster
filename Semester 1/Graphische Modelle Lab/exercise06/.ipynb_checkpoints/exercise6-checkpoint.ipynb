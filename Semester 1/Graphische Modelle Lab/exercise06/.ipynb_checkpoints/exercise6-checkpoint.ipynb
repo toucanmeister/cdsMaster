{
 "cells": [
  {
   "cell_type": "markdown",
   "id": "ce6eb788",
   "metadata": {},
   "source": [
    "# Exercise 6- Latent Dirichlet Allocation\n",
    "\n",
    "In this exercise, we will formulate the generative model of Latent Dirichlet Allocation (LDA) and use Gibbs Sampling to derive the latent topics of documents.\n",
    "\n",
    "In the event of a persistent problem, do not hesitate to contact the course instructors under\n",
    "- paul.kahlmeyer@uni-jena.de\n",
    "\n",
    "### Submission\n",
    "\n",
    "- Deadline of submission:\n",
    "        11.12.2022\n",
    "- Submission on [moodle page](https://moodle.uni-jena.de/course/view.php?id=34630)\n",
    "\n",
    "### Help\n",
    "In case you cannot solve a task, you can use the saved values within the `help` directory:\n",
    "- Load arrays with [Numpy](https://numpy.org/doc/stable/reference/generated/numpy.load.html)\n",
    "```\n",
    "np.load('help/array_name.npy')\n",
    "```\n",
    "- Load functions, classes and other objects with [Dill](https://dill.readthedocs.io/en/latest/dill.html)\n",
    "```\n",
    "import dill\n",
    "with open('help/some_func.pkl', 'rb') as f:\n",
    "    func = dill.load(f)\n",
    "```\n",
    "\n",
    "to continue working on the other tasks."
   ]
  },
  {
   "cell_type": "markdown",
   "id": "97f990d3",
   "metadata": {},
   "source": [
    "# Dataset\n",
    "\n",
    "We will use a dataset consisting of [titles from scientific papers](https://www.kaggle.com/datasets/blessondensil294/topic-modeling-for-research-articles).\n",
    "\n",
    "For a fast lookup, we convert the titles into lists of word indices based on a fixed vocabulary.\n",
    "\n",
    "For example with the vocabulary\n",
    "\n",
    "| idx | word |\n",
    "| :- | -: | \n",
    "| 0 | big |\n",
    "| 1 | sentence |\n",
    "| 2 | random |\n",
    "\n",
    "the sentence\n",
    "    \n",
    "    \"This is a random sentence\"\n",
    "    \n",
    "would be converted to \n",
    "    \n",
    "    [2, 1]"
   ]
  },
  {
   "cell_type": "markdown",
   "id": "899e8127",
   "metadata": {},
   "source": [
    "### Task 1\n",
    "\n",
    "Load the articles from `titles.txt` and transform them into lists of word indices using the vocabulary from `vocab.txt`.\n",
    "Discard titles that have no words in the vocabulary."
   ]
  },
  {
   "cell_type": "code",
   "execution_count": 32,
   "id": "3f305a66",
   "metadata": {},
   "outputs": [],
   "source": [
    "import numpy as np\n",
    "with open('titles.txt') as f:\n",
    "    titles = [s.replace(';\\n', '') for s in f.readlines()]\n",
    "with open('vocab.txt') as f:\n",
    "    vocab = [s.replace(';\\n', '') for s in f.readlines()]\n",
    "\n",
    "vocab_dict = {}\n",
    "for idx,word in enumerate(vocab):\n",
    "    vocab_dict[word] = idx\n",
    "\n",
    "def title_to_indices(t):\n",
    "    return [vocab_dict[word.lower()] for word in t.split(' ') if word.lower() in vocab_dict]\n",
    "titles_indices = [np.array(title_to_indices(t)) for t in titles if title_to_indices(t)]"
   ]
  },
  {
   "cell_type": "markdown",
   "id": "14fc4056",
   "metadata": {},
   "source": [
    "# LDA Topic Model\n",
    "\n",
    "Latent Dirichlet Allocation (LDA) is a model of how documents are generated from unobserved topics.\n",
    "The goal is then to learn the hidden parameters of the model which essentially means to discover the topics of documents.\n",
    "\n",
    "The model has the following parameters:\n",
    "\n",
    "- $K$... number of topics\n",
    "- $D$... number of documents\n",
    "- $V$... size of vocabulary\n",
    "- $N_i$... number of words in document $i$\n",
    "- $z_{il}$... topic of $l$-th word of document $i$\n",
    "- $w_{il}$... $l$-th word of document $i$\n",
    "\n",
    "and is depicted in the following graphical model:\n",
    "<div>\n",
    "<img src=\"images/generative_model.png\" width=\"400\"/>\n",
    "</div>\n",
    "\n",
    "\n",
    "Sampling a corpus of documents is done with four steps:\n",
    "\n",
    "1. Sample the topic distribution for each document from a dirichlet distribution \n",
    "\n",
    "\\begin{equation}\n",
    "\\theta_i\\sim\\mathcal{D}(\\alpha)\\text{, for }i=1,\\dots,D\n",
    "\\end{equation}\n",
    "\n",
    "2. Sample the word distribution for each topic from a dirichlet distribution \n",
    "\n",
    "\\begin{equation}\n",
    "\\varphi_j\\sim\\mathcal{D}(\\beta)\\text{, for }j=1,\\dots,K\n",
    "\\end{equation}\n",
    "\n",
    "3. Sample the topics for each word-position according to the document specific topic distribution\n",
    "\n",
    "\\begin{equation}\n",
    "z_{il}\\sim Cat(\\theta_i)\\text{, for }l=1,\\dots N_i\n",
    "\\end{equation}\n",
    "\n",
    "4. Sample the words for each word-position according to the topic specific word distribution\n",
    "\n",
    "\\begin{equation}\n",
    "w_{il}\\sim Cat(\\varphi_{z_{il}})\\text{, for }l=1,\\dots N_i\n",
    "\\end{equation}\n",
    "\n",
    "For further detail, please refer to the following videos:\n",
    "\n",
    "- intuitive guide [Part1](https://www.youtube.com/watch?v=T05t-SqKArY), [Part2](https://www.youtube.com/watch?v=BaM1uiCpj_E)\n",
    "- more technical [ML Lecture from Tübingen](https://www.youtube.com/watch?v=z2q7LhsnWNg)"
   ]
  },
  {
   "cell_type": "markdown",
   "id": "6400d27d",
   "metadata": {},
   "source": [
    "### Task 2\n",
    "\n",
    "Implement this generative model and explore the influence of the dirichlet parameters $\\alpha$ and $\\beta$ on the topics of the document.\n",
    "\n",
    "For simplicity we assume that all documents have the same length $N$, and that we draw from the dirichlet distributions using the uniform vectors $[\\alpha]_{1,\\dots, D}$ and $[\\beta]_{1,\\dots, K}$."
   ]
  },
  {
   "cell_type": "code",
   "execution_count": 33,
   "id": "107e6a83",
   "metadata": {},
   "outputs": [
    {
     "data": {
      "text/plain": [
       "[[2, 2, 2, 2, 1, 1, 2, 2, 2, 2],\n",
       " [2, 2, 1, 2, 1, 2, 2, 2, 2, 2],\n",
       " [0, 0, 2, 2, 0, 2, 2, 0, 0, 0]]"
      ]
     },
     "execution_count": 33,
     "metadata": {},
     "output_type": "execute_result"
    }
   ],
   "source": [
    "def sample_multinomial(p):\n",
    "        return np.nonzero(np.random.multinomial(1,p))[0][0]\n",
    "def sample_LDA(alpha:float, beta:float, D:int, K:int, N:int, V:int) -> np.ndarray:\n",
    "    '''\n",
    "    @Params:\n",
    "        alpha... dirichlet prior for document-topic distribution\n",
    "        beta... dirichlet prior for topic-word distribution\n",
    "        D... number of documents\n",
    "        K... number of topics\n",
    "        N... number of words/document\n",
    "        V... size of vocabulary\n",
    "        \n",
    "    @Returns:\n",
    "        samples from LDA model\n",
    "    '''\n",
    "    \n",
    "    topic_distribution = np.random.dirichlet(alpha, D) # For each document, sample a topic distribution\n",
    "    word_distribution = np.random.dirichlet(beta, K) # For each topic, sample a word distribution\n",
    "    topics = [[sample_multinomial(topic_distribution[document]) for word in range(N)] for document in range(D)] # For each doc and word-position, sample a topic\n",
    "    words = [[sample_multinomial(word_distribution[topics[document][word]]) for word in range(N)] for document in range(D)] # For each doc and word-position, sample a word\n",
    "    return words\n",
    "\n",
    "sample_LDA([0.1,0.1,0.8],[0.3,0.4,0.3],3,3,10,3)"
   ]
  },
  {
   "cell_type": "markdown",
   "id": "6da39859",
   "metadata": {},
   "source": [
    "# Parameter Learning\n",
    "\n",
    "In reality, we only know $W$ and we are interested in the latent matrices\n",
    "\\begin{equation}\n",
    "\\Theta = [\\theta_i]_{i=1,\\dots,D}\n",
    "\\end{equation}\n",
    "and\n",
    "\\begin{equation}\n",
    "\\Phi = [\\varphi_j]_{j=1,\\dots,T}\\,,\n",
    "\\end{equation}\n",
    "which hold the probabilities over topics for each document and the probabilities over words for each topic respectively.\n",
    "Both matrices are latent and controlled via latent Dirichlet-Priors, hence the name \"latent dirichlet allocation\".\n",
    "\n",
    "In other words we are interested in estimates \n",
    "\\begin{align}\n",
    "\\hat{\\Theta}&\\approx\\Theta\\\\\n",
    "\\hat{\\Phi}&\\approx\\Phi\\\\\n",
    "\\end{align}\n",
    "\n",
    "In practice, it is sufficient to get an estimate for the word - topic assignments $Z$.\n",
    "\n",
    "From $\\hat{Z}$ and $W$ one can then simply calculate the Maximum Likelihood estimates $\\hat{\\Theta}_{\\text{ML}}$ and $\\hat{\\Phi}_{\\text{ML}}$ for the categoricals.\n",
    "\n",
    "\n",
    "## Gibbs Sampling\n",
    "\n",
    "The standard way to get $\\hat{Z}$ is by estimating the posterior\n",
    "\\begin{equation}\n",
    "p(Z|W)\\,.\n",
    "\\end{equation}\n",
    "\n",
    "Unfortunately this posterior is intractable to compute directly, so we have to fall back to sampling.\n",
    "\n",
    "Let \n",
    "- $W$ be the given word collection\n",
    "- $Z$ be an assignment of words to topics (collection of topics)\n",
    "- $d_i\\subseteq W$ be a specific document (collection of words)\n",
    "- $(d_i, w_i, z_i)$ be the triple that defines a specific word in a document with a topic\n",
    "\n",
    "[Gibbs Sampling](https://en.wikipedia.org/wiki/Gibbs_sampling) in the form we want to use here consists of a simple loop:\n",
    "\n",
    "1. Create an initial $\\hat{Z}$\n",
    "2. For each word in each document $(d_i, w_i, z_i)$:\n",
    "   - resample $z_i$ from $p(z_i = j | Z\\setminus z_i, W)$\n",
    "   - update $\\hat{Z}$\n",
    "\n",
    "It turns out that\n",
    "\n",
    "\\begin{equation}\n",
    "p(z_i = j | Z\\setminus z_i, W)\\propto\\cfrac{|\\left\\{w\\in W: w=w_i\\wedge \\text{topic}(w)=j\\right\\}| + \\beta}{|\\left\\{w\\in W: \\text{topic}(w)=j\\right\\}| + V\\beta}\\cdot\\cfrac{|\\left\\{w\\in d_i: \\text{topic}(w)=j\\right\\}| + \\alpha}{|d_i| + K\\alpha}\\,.\n",
    "\\end{equation}"
   ]
  },
  {
   "cell_type": "markdown",
   "id": "6933de1c",
   "metadata": {},
   "source": [
    "### Task 3\n",
    "\n",
    "Implement the following class for Gibbs Sampling.\n",
    "\n",
    "The function `.sample` should return a dictionary that holds the intermediate results for each iteration (we need this later).\n",
    "\n",
    "Use the class to sample for 200 iterations with $K=5$ topics, and $\\alpha=\\beta=0.1$."
   ]
  },
  {
   "cell_type": "markdown",
   "id": "8e6e220a-0b28-42b1-824a-008560035a97",
   "metadata": {},
   "source": [
    "#### Mein code war langsam, deshalb hab ich ihn mit numba beschleunigt. Falls du das package noch nicht hast, einfach `pip install numba` ausführen.\n",
    "#### Dieser code war mal verständlich, bevor ich angefangen habe, Sachen zu optimieren, damit er nicht 1,2h läuft. Sorry!"
   ]
  },
  {
   "cell_type": "code",
   "execution_count": 34,
   "id": "108b656c",
   "metadata": {},
   "outputs": [
    {
     "data": {
      "application/vnd.jupyter.widget-view+json": {
       "model_id": "c3a0e87a3ad2475193e911d323f25aaf",
       "version_major": 2,
       "version_minor": 0
      },
      "text/plain": [
       "  0%|          | 0/200 [00:00<?, ?it/s]"
      ]
     },
     "metadata": {},
     "output_type": "display_data"
    }
   ],
   "source": [
    "import copy\n",
    "from tqdm.notebook import tqdm\n",
    "from numba import jit\n",
    "\n",
    "class LDA_GibbsSampler():\n",
    "    \n",
    "    \n",
    "    def __init__(self, docs:list, vocab:list, K:int, alpha:float, beta:float):\n",
    "        '''\n",
    "        @Params:\n",
    "            docs... list of lists of indices (see Task 1)\n",
    "            vocab... list of words (see Task 1)\n",
    "            K... number of topics\n",
    "        '''\n",
    "        \n",
    "        self.docs = docs\n",
    "        self.vocab = vocab    \n",
    "        self.word2idx = {v : i for i, v in enumerate(self.vocab)}\n",
    "        self.idx2word = {i : v for i, v in enumerate(self.vocab)}\n",
    "        \n",
    "        self.D = len(self.docs)\n",
    "        self.V = len(self.word2idx)\n",
    "        self.K = K\n",
    "        self.alpha = alpha\n",
    "        self.beta = beta\n",
    "\n",
    "\n",
    "\n",
    "    def sample(self, iterations:int, seed:int = 0) -> dict:\n",
    "        '''\n",
    "        Performs Gibbs Sampling for LDA topic model\n",
    "        \n",
    "        @Params:\n",
    "            interations... number of iterations\n",
    "            seed... random seed (for initialization)\n",
    "        @Returns:\n",
    "            dictionary with results from sampling process (key = iteration, value = results after iteration)\n",
    "        '''\n",
    "        def compute_words_with_topics(Z):\n",
    "            words_with_topic = np.empty(self.K)\n",
    "            words_in_doc_with_topic = np.empty((self.D, self.K))\n",
    "            for topic in range(self.K):\n",
    "                words_with_topic[topic] = 0\n",
    "                for doc in range(self.D):\n",
    "                    tmp = np.count_nonzero(Z[doc]==topic)\n",
    "                    words_in_doc_with_topic[doc][topic] = tmp\n",
    "                    words_with_topic[topic] += tmp\n",
    "            return words_with_topic,words_in_doc_with_topic\n",
    "        \n",
    "        @jit(nopython=True) # Das hab ich vorher als List-Comprehension geschrieben, da hab ich 20s pro Iteration gebraucht. Dank numba braucht es jetzt ca. 0.2s pro iteration.\n",
    "        def compute_words_that_are_this_word_with_topic(Z,docs,word,topic):\n",
    "            count = 0\n",
    "            for i in range(len(Z)):\n",
    "                if docs[i] == word and Z[i]==topic:\n",
    "                    count += 1\n",
    "            return count\n",
    "        \n",
    "        rng = np.random.default_rng(seed)\n",
    "        Z = [rng.integers(0, self.K, len(doc)) for doc in self.docs] # Randomly assign each word in our documents a topic\n",
    "        Zs = {0: copy.deepcopy(Z)}\n",
    "        docs_stacked = np.hstack(self.docs)\n",
    "        for i in tqdm(range(1,iterations+1)):\n",
    "            Z_old = Zs[i-1]\n",
    "            Z_old_stacked = np.hstack(Z_old)\n",
    "            words_with_topic,words_in_doc_with_topic = compute_words_with_topics(Z_old)\n",
    "            for doc_idx,doc in enumerate(self.docs):\n",
    "                for word_idx,word in enumerate(doc):\n",
    "                    topic_probs = np.empty(self.K)\n",
    "                    for topic in range(self.K):\n",
    "                        left_numerator = compute_words_that_are_this_word_with_topic(Z_old_stacked, docs_stacked, word, topic) + self.beta\n",
    "                        left_denominator = words_with_topic[topic] + self.V*self.beta\n",
    "                        right_numerator = words_in_doc_with_topic[doc_idx,topic] + self.alpha\n",
    "                        right_denominator = len(doc) + self.K*self.alpha\n",
    "                        topic_probs[topic] = (left_numerator / left_denominator) * (right_numerator / right_denominator)\n",
    "                    topic_probs = topic_probs / np.sum(topic_probs)\n",
    "                    Z[doc_idx][word_idx] = sample_multinomial(topic_probs)\n",
    "            Zs[i] = copy.deepcopy(Z)\n",
    "        return Zs\n",
    "\n",
    "sampler = LDA_GibbsSampler(titles_indices, vocab, 5, 0.1, 0.1)\n",
    "Zs = sampler.sample(200)"
   ]
  },
  {
   "cell_type": "markdown",
   "id": "e6210df1",
   "metadata": {},
   "source": [
    "### Task 4\n",
    "\n",
    "A good topic model should have two properties:\n",
    "\n",
    "1. Each document should have only a few topics\n",
    "2. Each topic should have only a few words\n",
    "\n",
    "Think about how to measure these two properties, track them over the sampling iterations and visualize this process."
   ]
  },
  {
   "cell_type": "code",
   "execution_count": 35,
   "id": "4bdbf538",
   "metadata": {},
   "outputs": [],
   "source": [
    "import matplotlib.pyplot as plt\n",
    "topics_per_document_avg = []\n",
    "words_per_topic_avg = []\n",
    "\n",
    "for k,Z in Zs.items():\n",
    "    topics_per_document_avg.append(np.mean([np.unique(z_doc).size for z_doc in Z]))\n",
    "    docs_stacked = np.hstack(sampler.docs)\n",
    "    Z_stacked = np.hstack(Z)\n",
    "    words_per_topic_avg.append(np.mean([np.unique(docs_stacked[Z_stacked==topic]).size for topic in range(sampler.K)]))"
   ]
  },
  {
   "cell_type": "code",
   "execution_count": 36,
   "id": "7681e42d-09a1-48b7-a95f-5cfc46535bf0",
   "metadata": {},
   "outputs": [
    {
     "name": "stdout",
     "output_type": "stream",
     "text": [
      "Average number of topics per document over the iterations:\n"
     ]
    },
    {
     "data": {
      "image/png": "[encoded data removed]",
      "text/plain": [
       "<Figure size 640x480 with 1 Axes>"
      ]
     },
     "metadata": {},
     "output_type": "display_data"
    }
   ],
   "source": [
    "plt.plot(Zs.keys(),topics_per_document_avg)\n",
    "print('Average number of topics per document over the iterations:')"
   ]
  },
  {
   "cell_type": "code",
   "execution_count": 37,
   "id": "1f3123e8-6b3f-4c66-95b6-033736f92acb",
   "metadata": {},
   "outputs": [
    {
     "name": "stdout",
     "output_type": "stream",
     "text": [
      "Average number of words per topic over the iterations:\n"
     ]
    },
    {
     "data": {
      "image/png": "[encoded data removed]",
      "text/plain": [
       "<Figure size 640x480 with 1 Axes>"
      ]
     },
     "metadata": {},
     "output_type": "display_data"
    }
   ],
   "source": [
    "plt.plot(Zs.keys(),words_per_topic_avg)\n",
    "print('Average number of words per topic over the iterations:')"
   ]
  },
  {
   "cell_type": "markdown",
   "id": "9f7bfbe4",
   "metadata": {},
   "source": [
    "# Inference\n",
    "\n",
    "The result of our Gibbs Sampling process are samples from $p(Z|W)$.\n",
    "\n",
    "Remember that we want to have an estimate $\\hat{Z}$ and from there calculate $\\hat{\\Theta}_{\\text{ML}}$ and $\\hat{\\Phi}_{\\text{ML}}$.\n",
    "\n",
    "Based on these we can then answer all kinds of inference queries.\n",
    "\n",
    "### Task 5\n",
    "\n",
    "Use the topic assignments from the sampling process $Z^{(i)}$ to estimate \n",
    "\n",
    "\\begin{equation}\n",
    "\\hat{Z} = \\cfrac{1}{m} \\sum\\limits_{i=1}^m Z^{(i)} \\approx \\mathbb{E}_{p(Z|W)}Z\n",
    "\\end{equation}\n",
    "\n",
    "For the estimation, take every 10-th sample from the 100-th iteration onwards."
   ]
  },
  {
   "cell_type": "code",
   "execution_count": 38,
   "id": "a01a4e00",
   "metadata": {},
   "outputs": [],
   "source": [
    "Z_hat = [np.zeros(Z.shape) for Z in Zs[0]]\n",
    "m = 0\n",
    "for i in range(100,200,10):\n",
    "    Z_hat = [Z_hat[k] + Zs[i][k] for k in range(len(Z_hat))]\n",
    "    m += 1\n",
    "Z_hat = [z_hat/m for z_hat in Z_hat]"
   ]
  },
  {
   "cell_type": "markdown",
   "id": "b51bc40c",
   "metadata": {},
   "source": [
    "### Task 6\n",
    "\n",
    "Think about what the Maximum Likelihood estimates $\\hat{\\Theta}_{\\text{ML}}$ and $\\hat{\\Phi}_{\\text{ML}}$ should be given $\\hat{Z}$.\n",
    "\n",
    "Use your estimate $\\hat{Z}$ to calculate $\\hat{\\Theta}_{\\text{ML}}$ and $\\hat{\\Phi}_{\\text{ML}}$."
   ]
  },
  {
   "cell_type": "code",
   "execution_count": 39,
   "id": "5cc1609f",
   "metadata": {},
   "outputs": [],
   "source": [
    "Z_hat_int = [np.rint(x) for x in Z_hat]\n",
    "theta = np.empty((len(titles_indices), 5))\n",
    "for doc_idx,z in enumerate(Z_hat_int):\n",
    "    for topic in range(5):\n",
    "        theta[doc_idx,topic] = np.count_nonzero(z==topic) # The number of times this topic occured in this document\n",
    "    theta[doc_idx] = theta[doc_idx] / np.sum(theta[doc_idx])\n",
    "\n",
    "phi = np.empty((5,len(vocab)))\n",
    "z_stacked = np.hstack(Z_hat_int)\n",
    "docs_stacked = np.hstack(titles_indices)\n",
    "for topic in range(5):\n",
    "    words_of_this_topic = docs_stacked[z_stacked==topic]\n",
    "    for word,word_idx in vocab_dict.items():\n",
    "        phi[topic,word_idx] = np.count_nonzero(words_of_this_topic==word_idx) # The number of times this word occured with this topic\n",
    "    phi[topic] = phi[topic] / np.sum(phi[topic])"
   ]
  },
  {
   "cell_type": "markdown",
   "id": "1a6d3ab8",
   "metadata": {},
   "source": [
    "# Inference"
   ]
  },
  {
   "cell_type": "markdown",
   "id": "78f5c69b",
   "metadata": {},
   "source": [
    "### Task 7\n",
    "\n",
    "For each topic, what are the top three words?"
   ]
  },
  {
   "cell_type": "code",
   "execution_count": 40,
   "id": "b7d6d5f9",
   "metadata": {},
   "outputs": [
    {
     "name": "stdout",
     "output_type": "stream",
     "text": [
      "For topic 1, the top three words are: ['graphs', 'random', 'analysis']\n",
      "For topic 2, the top three words are: ['dynamics', 'based', 'quantum']\n",
      "For topic 3, the top three words are: ['network', 'neural', 'networks']\n",
      "For topic 4, the top three words are: ['using', 'estimation', 'learning']\n",
      "For topic 5, the top three words are: ['theory', 'state', 'model']\n"
     ]
    }
   ],
   "source": [
    "for topic in range(5):\n",
    "    top_word_idcs = np.argsort(phi[topic])[-3:]\n",
    "    print(f'For topic {topic+1}, the top three words are: {[sampler.idx2word[x] for x in top_word_idcs]}')"
   ]
  },
  {
   "cell_type": "markdown",
   "id": "8521f539",
   "metadata": {},
   "source": [
    "### Task 8\n",
    "\n",
    "What is the topic distribution for the second title?"
   ]
  },
  {
   "cell_type": "code",
   "execution_count": 41,
   "id": "4288ec70",
   "metadata": {
    "scrolled": true
   },
   "outputs": [
    {
     "name": "stdout",
     "output_type": "stream",
     "text": [
      "[0.         0.33333333 0.66666667 0.         0.        ]\n"
     ]
    }
   ],
   "source": [
    "print(theta[1])"
   ]
  },
  {
   "cell_type": "markdown",
   "id": "4d9cb030",
   "metadata": {},
   "source": [
    "### Task 9\n",
    "\n",
    "Select the top 10 titles that are most typical for topic 4."
   ]
  },
  {
   "cell_type": "code",
   "execution_count": 42,
   "id": "809dc16d",
   "metadata": {},
   "outputs": [
    {
     "data": {
      "text/plain": [
       "['DeepFense: Online Accelerated Defense Against Adversarial Deep Learning',\n",
       " 'Mutual Information, Relative Entropy and Estimation Error in Semi-martingale Channels',\n",
       " 'Curvature in Hamiltonian Mechanics And The Einstein-Maxwell-Dilaton Action',\n",
       " 'Finding Submodularity Hidden in Symmetric Difference',\n",
       " 'Mixing of odd- and even-frequency pairings in strongly correlated electron systems under magnetic field',\n",
       " 'Reassessing Graphene Absorption and Emission Spectroscopy',\n",
       " 'Deep & Cross Network for Ad Click Predictions',\n",
       " 'Geometrically stopped Markovian random growth processes and Pareto tails',\n",
       " 'Forecasting the Impact of Stellar Activity on Transiting Exoplanet Spectra',\n",
       " 'Poisoning Attacks to Graph-Based Recommender Systems']"
      ]
     },
     "execution_count": 42,
     "metadata": {},
     "output_type": "execute_result"
    }
   ],
   "source": [
    "[titles[x] for x in np.argsort(theta[:,3])[-10:]]"
   ]
  },
  {
   "cell_type": "markdown",
   "id": "8c06546d",
   "metadata": {},
   "source": [
    "### Task 10\n",
    "\n",
    "Visualize the soft clustering that is induced by the topic distribution vectors for each title."
   ]
  },
  {
   "cell_type": "code",
   "execution_count": 44,
   "id": "8fb7fe1d",
   "metadata": {},
   "outputs": [
    {
     "data": {
      "text/plain": [
       "<matplotlib.collections.PathCollection at 0x7fce3b1bfeb0>"
      ]
     },
     "execution_count": 44,
     "metadata": {},
     "output_type": "execute_result"
    },
    {
     "data": {
      "image/png": "[encoded data removed]",
      "text/plain": [
       "<Figure size 640x480 with 1 Axes>"
      ]
     },
     "metadata": {},
     "output_type": "display_data"
    }
   ],
   "source": [
    "# We have 5 topics. Sadly, a simplex with 5 corners lives in 4D-space, so we can't simply draw it.\n",
    "# I will instead draw the PCA-reduced version of our data.\n",
    "\n",
    "from sklearn.decomposition import PCA\n",
    "\n",
    "pca = PCA(n_components=2)\n",
    "y = pca.fit_transform(theta)\n",
    "plt.scatter(y[:,0], y[:,1])\n",
    "# Now, I would interpret these lines-formations as coming from the edges of the 5-corner simplex.\n",
    "# Since many points lie on these lines, there are a lot of documents whose topic distribution is dominated by only 2 topics."
   ]
  }
 ],
 "metadata": {
  "kernelspec": {
   "display_name": "Python 3 (ipykernel)",
   "language": "python",
   "name": "python3"
  },
  "language_info": {
   "codemirror_mode": {
    "name": "ipython",
    "version": 3
   },
   "file_extension": ".py",
   "mimetype": "text/x-python",
   "name": "python",
   "nbconvert_exporter": "python",
   "pygments_lexer": "ipython3",
   "version": "3.10.6"
  }
 },
 "nbformat": 4,
 "nbformat_minor": 5
}
