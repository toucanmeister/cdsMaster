{
 "cells": [
  {
   "cell_type": "markdown",
   "id": "b8f2d57c-2515-4b6d-b9b8-5daedab42d7f",
   "metadata": {},
   "source": [
    "# G4\n",
    "\n",
    "$$\n",
    "\\begin{aligned}\n",
    "&\\min_{x \\in \\mathbb{R}^{20}} \\sum_{i=1}^{200} ||x-a^i||_1 \\\\\n",
    "= &\\min_{x \\in \\mathbb{R}^{20}} \\sum_{i=1}^{200} \\sum_{j=1}^{20} |x_j - a_j^i| \\\\\n",
    "= &\\min_{x \\in \\mathbb{R}^{20}} \\sum_{i=1}^{200} \\sum_{j=1}^{20} y_{ij} \\\\\n",
    "&\\text{s.t.} \\; \\forall i,j: x_j - a_j^i \\leq y_{ij} \\\\\n",
    "&\\text{s.t.} \\; \\forall i,j: -x_j + a_j^i \\leq y_{ij}\n",
    "\\end{aligned}\n",
    "$$"
   ]
  },
  {
   "cell_type": "code",
   "execution_count": 1,
   "id": "2c3c4276-a42d-4d3c-99a6-f0142f31326f",
   "metadata": {},
   "outputs": [],
   "source": [
    "import numpy as np\n",
    "from scipy.optimize import linprog\n",
    "A = np.loadtxt('data.txt', delimiter=',')"
   ]
  },
  {
   "cell_type": "code",
   "execution_count": 9,
   "id": "75a39015-679c-45cd-9ca9-101182c186b0",
   "metadata": {},
   "outputs": [
    {
     "data": {
      "text/plain": [
       "array([9.86605355e+03, 3.20620789e+00, 5.63666989e+03, ...,\n",
       "       2.06376863e+03, 2.16597607e+03, 5.66416188e+03])"
      ]
     },
     "execution_count": 9,
     "metadata": {},
     "output_type": "execute_result"
    }
   ],
   "source": [
    "a = A.flatten() # We turn the 200x20 matrix into a 4000-entry vector\n",
    "a"
   ]
  }
 ],
 "metadata": {
  "kernelspec": {
   "display_name": "Python 3 (ipykernel)",
   "language": "python",
   "name": "python3"
  },
  "language_info": {
   "codemirror_mode": {
    "name": "ipython",
    "version": 3
   },
   "file_extension": ".py",
   "mimetype": "text/x-python",
   "name": "python",
   "nbconvert_exporter": "python",
   "pygments_lexer": "ipython3",
   "version": "3.8.10"
  }
 },
 "nbformat": 4,
 "nbformat_minor": 5
}
