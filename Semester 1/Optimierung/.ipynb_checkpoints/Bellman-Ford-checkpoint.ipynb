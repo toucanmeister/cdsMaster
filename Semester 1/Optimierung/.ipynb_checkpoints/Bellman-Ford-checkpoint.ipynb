{
 "cells": [
  {
   "cell_type": "code",
   "execution_count": 56,
   "id": "716373f9-0d8c-4e5b-9756-afc71259287a",
   "metadata": {},
   "outputs": [
    {
     "name": "stdout",
     "output_type": "stream",
     "text": [
      "Arbitragemöglichkeit:\n",
      "USD -> EUR\n",
      "CAD -> USD\n",
      "CHF -> CAD\n",
      "CHF -> GBP\n",
      "GBP -> CHF\n"
     ]
    }
   ],
   "source": [
    "# Aufgabe 5\n",
    "\n",
    "# Lösung durch Algorithmus von Ford ausgeführt auf den Graphen mit negativ logarithmierten Gewichten.\n",
    "\n",
    "import sys\n",
    "import math\n",
    "\n",
    "\n",
    "class Graph:\n",
    "    def __init__(self, vertices, edges):\n",
    "        self.vertices = vertices\n",
    "        self.edges = [] # Each edge is of the form (from,to,weight)\n",
    "        for from_idx, from_v in enumerate(vertices):\n",
    "            for to_idx, to_v in enumerate(vertices):\n",
    "                if not from_v == to_v: self.edges.append((from_v, to_v, edges[from_idx][to_idx]))\n",
    "\n",
    "    def add_edges(self, a, b, c):\n",
    "        self.edges.append((a, b, c))\n",
    "\n",
    "    def bellman_ford(self, starting_node):\n",
    "        potential = {vertex: sys.float_info.max for vertex in self.vertices} # Initialize all potentials as the largest float\n",
    "        potential[starting_node] = 0\n",
    "        pred = {} # Dict for storing predecessors\n",
    "        for _ in range(len(self.vertices) - 1): # Convergence after at most (num_vertices - 1) iterations\n",
    "            for a, b, c in self.edges:\n",
    "                if potential[a] + c < potential[b]:\n",
    "                    potential[b] = potential[a] + c\n",
    "                    pred[b] = a\n",
    "        for a, b, c in self.edges:\n",
    "            if potential[a] + c < potential[b]:\n",
    "                print(f'Arbitragemöglichkeit:')\n",
    "                for n in self.vertices:\n",
    "                    print(f'{pred[n]} -> {n}')\n",
    "                return\n",
    "\n",
    "vertices = [\"EUR\", \"USD\", \"CAD\", \"GBP\", \"CHF\"]\n",
    "edges = [[1, 1.350, 1.351, 0.888, 1.433],\n",
    "         [0.741, 1, 1.004, 0.657, 1.061],\n",
    "         [0.732, 0.995, 1, 0.650, 1.049],\n",
    "         [1.126, 1.521, 1.538, 1, 1.614],\n",
    "         [0.698, 0.943, 0.953, 0.620, 1]]\n",
    "log_edges = [list(map(lambda x: -math.log(x),line)) for line in edges] # Gewichte logarithmieren und negieren\n",
    "g = Graph(vertices, log_edges)\n",
    "g.bellman_ford(\"EUR\")\n",
    "# Ausgabe: \n",
    "## Arbitragemöglichkeit:\n",
    "## USD -> EUR\n",
    "## CAD -> USD\n",
    "## CHF -> CAD\n",
    "## CHF -> GBP\n",
    "## GBP -> CHF\n",
    "\n",
    "# Sehen einen negativen Zyklus CHF -> GBP -> CHF\n",
    "# Probe: 0.620 * 1.614 = 1.00068 > 1"
   ]
  }
 ],
 "metadata": {
  "kernelspec": {
   "display_name": "Python 3 (ipykernel)",
   "language": "python",
   "name": "python3"
  },
  "language_info": {
   "codemirror_mode": {
    "name": "ipython",
    "version": 3
   },
   "file_extension": ".py",
   "mimetype": "text/x-python",
   "name": "python",
   "nbconvert_exporter": "python",
   "pygments_lexer": "ipython3",
   "version": "3.8.10"
  }
 },
 "nbformat": 4,
 "nbformat_minor": 5
}
