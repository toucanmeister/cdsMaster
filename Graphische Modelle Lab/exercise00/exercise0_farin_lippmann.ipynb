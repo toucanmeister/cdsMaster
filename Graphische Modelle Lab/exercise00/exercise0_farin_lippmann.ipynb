{
 "cells": [
  {
   "cell_type": "markdown",
   "metadata": {},
   "source": [
    "# Exercise 0 - Getting started\n",
    "\n",
    "<div>\n",
    "<img src=\"images/python-logo.png\" width=\"100\"/>\n",
    "</div>\n",
    "\n",
    "This exercise is meant to get you familiar with Python. For an in-depth tour trough Python, consider the highly recommended lecture \"Skriptsprachen und Anwendungen (ASQ)\" (FMI-BI0058) by Emanuel Barth.\n",
    "\n",
    "In the event of a persistent problem, do not hesitate to contact the course instructor under\n",
    "\n",
    "- paul.kahlmeyer@uni-jena.de\n",
    "\n",
    "Python is designed for readability, therefore try to write compact and readable code.\n",
    "\n",
    "A rule of thumb should be:\n",
    "- your code explains what you are doing\n",
    "- comments explain why you are doing it\n",
    "\n",
    "### Submission\n",
    "**This exercise will give no points!**\n",
    "- Deadline of submission:\n",
    "        23.10.2021\n",
    "- Submission on [moodle page](https://moodle.uni-jena.de/course/view.php?id=34630)"
   ]
  },
  {
   "cell_type": "markdown",
   "metadata": {},
   "source": [
    "## Variables, Types\n",
    "\n",
    "In this lab, we will mostly use two basic types of variables: **numbers** and **strings**. These variables can be grouped in [**lists**](https://www.w3schools.com/python/python_lists.asp), [**dictionaries**](https://www.w3schools.com/python/python_dictionaries.asp) or [**sets**](https://www.w3schools.com/python/python_sets.asp)."
   ]
  },
  {
   "cell_type": "markdown",
   "metadata": {},
   "source": [
    "### Task 1\n",
    "\n",
    "Create several variables:\n",
    "- `x` has the value of 3\n",
    "- `y` has the value of $2^{100}$\n",
    "- `a` is a string with the text \"some string\"\n",
    "- `l` is a list, that holds `x,y` and `a`\n",
    "- `d` is a dictionary with the name and phone number of three (imaginary) people\n",
    "- `s` is a set with the integers from 0 to 10"
   ]
  },
  {
   "cell_type": "code",
   "execution_count": 11,
   "metadata": {},
   "outputs": [],
   "source": [
    "x = 3\n",
    "y = 2**100\n",
    "a = \"some string\"\n",
    "l = [x,y,a]\n",
    "d = {\n",
    "    'alice': '0123',\n",
    "    'bob': '0124',\n",
    "    'claire': '0125'\n",
    "    }\n",
    "s = {0,1,2,3,4,5,6,7,8,9,10}"
   ]
  },
  {
   "cell_type": "markdown",
   "metadata": {},
   "source": [
    "## Branches and Loops\n",
    "\n",
    "Similar to other programming languages, Python has [**for**](https://www.w3schools.com/python/python_for_loops.asp)- and [**while**](https://www.w3schools.com/python/python_while_loops.asp)- loops, as well as [**if-else**](https://www.w3schools.com/python/python_conditions.asp) conditioning.\n",
    "\n",
    "### Task 2\n",
    "Use a for loop to iterate over the dictionary `d` and print the persons and their phone numbers."
   ]
  },
  {
   "cell_type": "code",
   "execution_count": 5,
   "metadata": {},
   "outputs": [
    {
     "name": "stdout",
     "output_type": "stream",
     "text": [
      "alice, 0123\n",
      "bob, 0123\n",
      "claire, 0123\n"
     ]
    }
   ],
   "source": [
    "for key in d:\n",
    "    print(f'{key}, {d[k]}')"
   ]
  },
  {
   "cell_type": "markdown",
   "metadata": {},
   "source": [
    "### Task 3\n",
    "Use a for loop to iterate over the set `s` and print only the even numbers."
   ]
  },
  {
   "cell_type": "code",
   "execution_count": 8,
   "metadata": {},
   "outputs": [
    {
     "name": "stdout",
     "output_type": "stream",
     "text": [
      "0\n",
      "2\n",
      "4\n",
      "6\n",
      "8\n",
      "10\n"
     ]
    }
   ],
   "source": [
    "for num in s:\n",
    "    if num % 2 == 0:\n",
    "        print(num)"
   ]
  },
  {
   "cell_type": "markdown",
   "metadata": {},
   "source": [
    "### Task 4\n",
    "Calculate the first 10 powers of 2: ($2^0,2^1,2^2,\\dots,2^9)$ \n",
    "and store them in a list\n",
    "- using a for loop\n",
    "- using a while loop\n",
    "\n",
    "Compare the results."
   ]
  },
  {
   "cell_type": "code",
   "execution_count": 12,
   "metadata": {},
   "outputs": [
    {
     "name": "stdout",
     "output_type": "stream",
     "text": [
      "[1, 2, 4, 8, 16, 32, 64, 128, 256, 512]\n",
      "[1, 2, 4, 8, 16, 32, 64, 128, 256, 512]\n"
     ]
    }
   ],
   "source": [
    "l1 = []\n",
    "for n in range(10):\n",
    "    l1.append(2**n)\n",
    "l2 = []\n",
    "n = 0\n",
    "while n < 10:\n",
    "    l2.append(2**n)\n",
    "    n = n+1\n",
    "\n",
    "print(l1)\n",
    "print(l2)"
   ]
  },
  {
   "cell_type": "markdown",
   "metadata": {},
   "source": [
    "[Functions](https://www.w3schools.com/python/python_functions.asp) are a convenient way to encapsulate calculation steps.\n",
    "\n",
    "### Task 5\n",
    "Create a function, that returns a list of the first $n$ [fibonacci numbers](https://en.wikipedia.org/wiki/Fibonacci_number)."
   ]
  },
  {
   "cell_type": "code",
   "execution_count": 17,
   "metadata": {},
   "outputs": [
    {
     "name": "stdout",
     "output_type": "stream",
     "text": [
      "[1, 1, 2, 3, 5, 8, 13, 21, 34, 55, 89]\n"
     ]
    }
   ],
   "source": [
    "def fib(n):\n",
    "    l = []\n",
    "    for i in range(n):\n",
    "        if i in [0,1]:\n",
    "            l.append(1)\n",
    "        else:\n",
    "            l.append(l[i-1] + l[i-2])\n",
    "    return l\n",
    "\n",
    "print(fib(11))"
   ]
  },
  {
   "cell_type": "markdown",
   "metadata": {},
   "source": [
    "## Numpy and Matplotlib\n",
    "\n",
    "In the context of scientific computing, [NumPy](https://numpy.org/) is probably the most important package in Python. \n",
    "\n",
    "### Task 6\n",
    "Install and import numpy. Create a numpy array with 10 numbers. Multiply this array by 10 and calculate the mean of the array. Do not use loops, but work directly on the array."
   ]
  },
  {
   "cell_type": "code",
   "execution_count": 1,
   "metadata": {},
   "outputs": [
    {
     "name": "stdout",
     "output_type": "stream",
     "text": [
      "55.0\n"
     ]
    }
   ],
   "source": [
    "# TODO: create numpy array, multiply by 10 and calculate mean\n",
    "import numpy as np\n",
    "arr = np.array([[1,2,3,4,5],[6,7,8,9,10]])\n",
    "print(np.mean(arr*10))"
   ]
  },
  {
   "cell_type": "markdown",
   "metadata": {},
   "source": [
    "[Matplotlib](https://matplotlib.org/) is a package for plotting and visualization in Python.\n",
    "\n",
    "### Task 7\n",
    "\n",
    "Use numpy to calculate the function \n",
    "\\begin{equation}\n",
    "f(x) = x^2-10\\sin(2x)\n",
    "\\end{equation}\n",
    "for $x=1,\\dots,50$. \n",
    "\n",
    "Use matplotlib to draw the function."
   ]
  },
  {
   "cell_type": "code",
   "execution_count": 3,
   "metadata": {},
   "outputs": [
    {
     "data": {
      "text/plain": [
       "[<matplotlib.lines.Line2D at 0x7f34b238fa90>]"
      ]
     },
     "execution_count": 3,
     "metadata": {},
     "output_type": "execute_result"
    },
    {
     "data": {
      "image/png": "[encoded data removed]",
      "text/plain": [
       "<Figure size 640x480 with 1 Axes>"
      ]
     },
     "metadata": {},
     "output_type": "display_data"
    }
   ],
   "source": [
    "import matplotlib.pyplot as plt\n",
    "x = np.arange(1,51)\n",
    "y = x**2 - 10*np.sin(2*x)\n",
    "plt.plot(x,y)"
   ]
  },
  {
   "cell_type": "markdown",
   "metadata": {},
   "source": [
    "## Saving and Loading Results\n",
    "\n",
    "Numpy provides you with a simple and quick way of saving and loading numpy arrays. \n",
    "\n",
    "### Task 8\n",
    "Use the [numpy.load](https://numpy.org/doc/stable/reference/generated/numpy.load.html) function, to load the arrays located in the directory **parts/**. Sum these arrays up, and display the result using matplotlibs [imshow](https://matplotlib.org/stable/api/_as_gen/matplotlib.pyplot.imshow.html) function. Finally, use the [numpy.save](https://numpy.org/doc/stable/reference/generated/numpy.save.html) function, to save the result as **result.npy**."
   ]
  },
  {
   "cell_type": "code",
   "execution_count": 12,
   "metadata": {},
   "outputs": [
    {
     "data": {
      "image/png": "[encoded data removed]",
      "text/plain": [
       "<Figure size 640x480 with 1 Axes>"
      ]
     },
     "metadata": {},
     "output_type": "display_data"
    }
   ],
   "source": [
    "# TODO: load arrays\n",
    "a0 = np.load('parts/array_0.npy')\n",
    "a1 = np.load('parts/array_1.npy')\n",
    "a2 = np.load('parts/array_2.npy')\n",
    "a3 = np.load('parts/array_3.npy')\n",
    "a4 = np.load('parts/array_4.npy')\n",
    "a5 = np.load('parts/array_5.npy')\n",
    "a6 = np.load('parts/array_6.npy')\n",
    "a7 = np.load('parts/array_7.npy')\n",
    "a8 = np.load('parts/array_8.npy')\n",
    "a9 = np.load('parts/array_9.npy')\n",
    "\n",
    "# TODO: sum arrays\n",
    "sumarray = a0+a1+a2+a3+a4+a5+a6+a7+a8+a9\n",
    "\n",
    "# TODO: display sum\n",
    "plt.imshow(sumarray)\n",
    "\n",
    "# TODO: save result\n",
    "np.save('result.npy', sumarray)"
   ]
  },
  {
   "cell_type": "markdown",
   "metadata": {},
   "source": [
    "[Dill](https://dill.readthedocs.io/en/latest/dill.html) is a package, that lets you load and save python functions.\n",
    "\n",
    "For later exercises, if the solution of a task requires a function from a previous task, I will provide my own implementation in the `help` directory. \n",
    "\n",
    "### Task 9\n",
    "\n",
    "Install dill and use it to load the function `help/some_func.pkl`. Find out, what this function does."
   ]
  },
  {
   "cell_type": "code",
   "execution_count": 6,
   "metadata": {},
   "outputs": [
    {
     "data": {
      "text/plain": [
       "(array([ 0.00000000e+00,  4.08205844e-03,  3.24596202e-02,  1.08451663e-01,\n",
       "         2.53459800e-01,  4.86097540e-01,  8.21421487e-01,  1.27029267e+00,\n",
       "         1.83889148e+00,  2.52840404e+00,  3.33489187e+00,  4.24934970e+00,\n",
       "         5.25794984e+00,  6.34246456e+00,  7.48085148e+00,  8.64798120e+00,\n",
       "         9.81648099e+00,  1.09576645e+01,  1.20425142e+01,  1.30426804e+01,\n",
       "         1.39314628e+01,  1.46847371e+01,  1.52817947e+01,  1.57060648e+01,\n",
       "         1.59456938e+01,  1.59939589e+01,  1.58495036e+01,  1.55163853e+01,\n",
       "         1.50039332e+01,  1.43264219e+01,  1.35025731e+01,  1.25549014e+01,\n",
       "         1.15089303e+01,  1.03923048e+01,  9.23383328e+00,  8.06249226e+00,\n",
       "         6.90643162e+00,  5.79201401e+00,  4.74292420e+00,  3.77937985e+00,\n",
       "         2.91747209e+00,  2.16865934e+00,  1.53943249e+00,  1.03116315e+00,\n",
       "         6.40140105e-01,  3.57792385e-01,  1.71090449e-01,  6.31106648e-02,\n",
       "         1.37422923e-02,  5.11028760e-04, -5.11028760e-04, -1.37422923e-02,\n",
       "        -6.31106648e-02, -1.71090449e-01, -3.57792385e-01, -6.40140105e-01,\n",
       "        -1.03116315e+00, -1.53943249e+00, -2.16865934e+00, -2.91747209e+00,\n",
       "        -3.77937985e+00, -4.74292420e+00, -5.79201401e+00, -6.90643162e+00,\n",
       "        -8.06249226e+00, -9.23383328e+00, -1.03923048e+01, -1.15089303e+01,\n",
       "        -1.25549014e+01, -1.35025731e+01, -1.43264219e+01, -1.50039332e+01,\n",
       "        -1.55163853e+01, -1.58495036e+01, -1.59939589e+01, -1.59456938e+01,\n",
       "        -1.57060648e+01, -1.52817947e+01, -1.46847371e+01, -1.39314628e+01,\n",
       "        -1.30426804e+01, -1.20425142e+01, -1.09576645e+01, -9.81648099e+00,\n",
       "        -8.64798120e+00, -7.48085148e+00, -6.34246456e+00, -5.25794984e+00,\n",
       "        -4.24934970e+00, -3.33489187e+00, -2.52840404e+00, -1.83889148e+00,\n",
       "        -1.27029267e+00, -8.21421487e-01, -4.86097540e-01, -2.53459800e-01,\n",
       "        -1.08451663e-01, -3.24596202e-02, -4.08205844e-03, -2.35094530e-46]),\n",
       " array([  5.        ,   5.08224663,   5.32508382,   5.7169923 ,\n",
       "          6.23939269,   6.86753905,   7.571701  ,   8.31857046,\n",
       "          9.07281734,   9.79871127,  10.46172398,  11.03002949,\n",
       "         11.47582631,  11.77641721,  11.91499737,  11.88111868,\n",
       "         11.67081767,  11.28641326,  10.73599962,  10.03267583,\n",
       "          9.19356775,   8.23870796,   7.18984497,   6.06925492,\n",
       "          4.8986255 ,   3.69807467,   2.48535602,   1.27528841,\n",
       "          0.07943237,  -1.09398166,  -2.23988405,  -3.3559821 ,\n",
       "         -4.44220111,  -5.5       ,  -6.53161771,  -7.53930932,\n",
       "         -8.52462944,  -9.48781525, -10.42731288, -11.33947949,\n",
       "        -12.21848009, -13.05638351, -13.84344774, -14.56857112,\n",
       "        -15.21987446, -15.78536987, -16.2536664 , -16.6146605 ,\n",
       "        -16.86016047, -16.9843994 , -16.9843994 , -16.86016047,\n",
       "        -16.6146605 , -16.2536664 , -15.78536987, -15.21987446,\n",
       "        -14.56857112, -13.84344774, -13.05638351, -12.21848009,\n",
       "        -11.33947949, -10.42731288,  -9.48781525,  -8.52462944,\n",
       "         -7.53930932,  -6.53161771,  -5.5       ,  -4.44220111,\n",
       "         -3.3559821 ,  -2.23988405,  -1.09398166,   0.07943237,\n",
       "          1.27528841,   2.48535602,   3.69807467,   4.8986255 ,\n",
       "          6.06925492,   7.18984497,   8.23870796,   9.19356775,\n",
       "         10.03267583,  10.73599962,  11.28641326,  11.67081767,\n",
       "         11.88111868,  11.91499737,  11.77641721,  11.47582631,\n",
       "         11.03002949,  10.46172398,   9.79871127,   9.07281734,\n",
       "          8.31857046,   7.571701  ,   6.86753905,   6.23939269,\n",
       "          5.7169923 ,   5.32508382,   5.08224663,   5.        ]))"
      ]
     },
     "execution_count": 6,
     "metadata": {},
     "output_type": "execute_result"
    }
   ],
   "source": [
    "import dill\n",
    "\n",
    "some_func = dill.load(open('help/some_func.pkl', 'rb'))\n",
    "some_func()"
   ]
  }
 ],
 "metadata": {
  "kernelspec": {
   "display_name": "Python 3 (ipykernel)",
   "language": "python",
   "name": "python3"
  },
  "language_info": {
   "codemirror_mode": {
    "name": "ipython",
    "version": 3
   },
   "file_extension": ".py",
   "mimetype": "text/x-python",
   "name": "python",
   "nbconvert_exporter": "python",
   "pygments_lexer": "ipython3",
   "version": "3.10.6"
  }
 },
 "nbformat": 4,
 "nbformat_minor": 4
}
