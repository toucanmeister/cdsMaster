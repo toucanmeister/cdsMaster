{
 "cells": [
  {
   "cell_type": "markdown",
   "id": "ce6eb788",
   "metadata": {},
   "source": [
    "# Exercise 2 - Multivariate Categoricals\n",
    "\n",
    "In this exercise, we will compare the Maximum Likelihood (ML) estimator with the Maximum A Posteriori (MAP) estimator for the tosses of a dice.\n",
    "\n",
    "In the event of a persistent problem, do not hesitate to contact the course instructors under\n",
    "- paul.kahlmeyer@uni-jena.de\n",
    "\n",
    "### Submission\n",
    "\n",
    "- Deadline of submission:\n",
    "        06.11.2022\n",
    "- Submission on [moodle page](https://moodle.uni-jena.de/course/view.php?id=34630)\n",
    "\n",
    "### Help\n",
    "In case you cannot solve a task, you can use the saved values within the `help` directory:\n",
    "- Load arrays with [Numpy](https://numpy.org/doc/stable/reference/generated/numpy.load.html)\n",
    "```\n",
    "np.load('help/array_name.npy')\n",
    "```\n",
    "- Load functions with [Dill](https://dill.readthedocs.io/en/latest/dill.html)\n",
    "```\n",
    "import dill\n",
    "with open('help/some_func.pkl', 'rb') as f:\n",
    "    func = dill.load(f)\n",
    "```\n",
    "\n",
    "to continue working on the other tasks."
   ]
  },
  {
   "cell_type": "markdown",
   "id": "f8f222b4",
   "metadata": {},
   "source": [
    "# An unfair die\n",
    "\n",
    "Suppose, we can observe the results of tossing a die. We want to know, if the die is fair or not. \n",
    "\n",
    "After we observed 20 tosses, we stop and analyse.\n",
    "\n",
    "Load the results of these 20 tosses from `die1.npy`."
   ]
  },
  {
   "cell_type": "code",
   "execution_count": 1,
   "id": "ee80d951",
   "metadata": {},
   "outputs": [
    {
     "data": {
      "text/plain": [
       "array([3, 5, 1, 2, 2, 1, 2, 3, 3, 4, 3, 5, 2, 6, 1, 5, 3, 4, 2, 2],\n",
       "      dtype=int32)"
      ]
     },
     "execution_count": 1,
     "metadata": {},
     "output_type": "execute_result"
    }
   ],
   "source": [
    "import numpy as np\n",
    "tosses = np.load('die1.npy')\n",
    "tosses"
   ]
  },
  {
   "cell_type": "markdown",
   "id": "f6eb384f",
   "metadata": {},
   "source": [
    "We consider the result of the dice toss as a multivariate categorical random variable\n",
    "\\begin{equation}\n",
    "X\\sim Cat(\\boldsymbol{p})\\,,\n",
    "\\end{equation}\n",
    "where $\\boldsymbol{p}$ is the vector of probabilities for tossing a certain result."
   ]
  },
  {
   "cell_type": "markdown",
   "id": "d7d3859b",
   "metadata": {},
   "source": [
    "## Maximum Likelihood Estimate\n",
    "\n",
    "The Maximum Likelihood estimator for multivariate categoricals on a dataset is defined as the vector\n",
    "\n",
    "\\begin{equation}\n",
    "\\boldsymbol{p}_{\\text{ML}} = \\left[\\cfrac{m(x)}{m}\\right]_{x\\in\\mathcal{X}}\\,,\n",
    "\\end{equation}\n",
    "where $\\mathcal{X}$ is the sample space, $m$ is the size of the dataset and $m(x)$ counts the number of occurences of $x$ in the dataset.\n",
    "\n",
    "\n",
    "### Task 1\n",
    "\n",
    "Implement this estimator within the function `estimate_ML`.\n",
    "Calculate the ML-Estimate for $\\boldsymbol{p}$."
   ]
  },
  {
   "cell_type": "code",
   "execution_count": 2,
   "id": "10340a33",
   "metadata": {},
   "outputs": [
    {
     "data": {
      "text/plain": [
       "[0.15, 0.3, 0.25, 0.1, 0.15, 0.05]"
      ]
     },
     "execution_count": 2,
     "metadata": {},
     "output_type": "execute_result"
    }
   ],
   "source": [
    "def estimate_ML(observations, categories):\n",
    "    '''\n",
    "    Calculates the Maximum Likelihood estimate for p.\n",
    "    \n",
    "    @Params:\n",
    "        observations... observations\n",
    "        categories... possible outcomes\n",
    "    \n",
    "    @Returns:\n",
    "        estimated probability vector p_ML\n",
    "    '''\n",
    "    def occurrences(category):\n",
    "        return sum([1 if o == category else 0 for o in observations]) # Vergib mir, ich programmiere gerade viel funktional.\n",
    "    return [occurrences(c)/len(observations) for c in categories]     # Daher fallen mir als erstes Lösungen ein, die etwas ungewöhnlich ausssehen.\n",
    "\n",
    "estimate_ML(tosses, [1,2,3,4,5,6])"
   ]
  },
  {
   "cell_type": "markdown",
   "id": "7df0c103",
   "metadata": {},
   "source": [
    "## MAP Estimate\n",
    "\n",
    "In the Bayesian framework, we encode an initial belief over $\\boldsymbol{p}$ with a **prior distribution**.\n",
    "We then use observed evidence to **update the prior to a posterior distribution**.\n",
    "\n",
    "In our case, we use a [dirichlet distribution](https://en.wikipedia.org/wiki/Dirichlet_distribution) as prior. This distribution is defined by a parameter vector $\\alpha\\in\\mathbb{R}^{|\\mathcal{X}|}_{+}$. \n",
    "That is, we assume \n",
    "\\begin{equation}\n",
    "\\boldsymbol{p}\\sim\\text{Dir}(\\alpha)\\,.\n",
    "\\end{equation}\n",
    "The parameter vector $\\alpha$ has a positive entry for each element of the sample space.\n",
    "\n",
    "\n",
    "Now given a dataset $X$, we update our prior belief to a posterior belief:\n",
    "\\begin{equation}\n",
    "p(\\boldsymbol{p}) \\rightarrow p(\\boldsymbol{p}|X)\\,.\n",
    "\\end{equation}\n",
    "\n",
    "Since the dirichlet distribution is a [conjugate prior](https://en.wikipedia.org/wiki/Conjugate_prior), the posterior is again a dirichlet distribution\n",
    "\\begin{equation}\n",
    "p(\\boldsymbol{p}|X)\\sim\\text{Dir}(\\boldsymbol{m} + \\alpha)\\,\n",
    "\\end{equation}\n",
    "where $\\boldsymbol{m}$ is the vector \n",
    "\\begin{equation}\n",
    "\\left[m(x)\\right]_{x\\in\\mathcal{X}}\n",
    "\\end{equation}\n",
    "\n",
    "TLDR: We use data $X$ to update $\\alpha_{\\text{prior}}$ to $\\alpha_{\\text{posterior}}$.\n",
    "\n",
    "### Task 2\n",
    "Use a prior of $\\alpha_{\\text{prior}}=[10,10,10,10,10,10]$ and calculate $\\alpha_{\\text{posterior}}$ given our 20 tosses.\n",
    "Implement and use the `update` function. "
   ]
  },
  {
   "cell_type": "code",
   "execution_count": 3,
   "id": "03cb6d20",
   "metadata": {},
   "outputs": [
    {
     "data": {
      "text/plain": [
       "[13, 16, 15, 12, 13, 11]"
      ]
     },
     "execution_count": 3,
     "metadata": {},
     "output_type": "execute_result"
    }
   ],
   "source": [
    "def update(prior_alpha, evidence, categories):\n",
    "    '''\n",
    "    Updates the parameter vector alpha from prior to posterior.\n",
    "    \n",
    "    @Params:\n",
    "        prior_alpha... alpha from prior distribution\n",
    "        evidence... observed evidence\n",
    "        categories... possible outcomes\n",
    "        \n",
    "    @Returns:\n",
    "         alpha of posterior distribution\n",
    "    '''\n",
    "    def occurrences(category):\n",
    "        return sum([1 if o == category else 0 for o in evidence])\n",
    "    return [prior_alpha[i] + occurrences(categories[i]) for i in range(len(categories))]\n",
    "\n",
    "update([10]*6, tosses, [1,2,3,4,5,6])"
   ]
  },
  {
   "cell_type": "markdown",
   "id": "cc6d5d72",
   "metadata": {},
   "source": [
    "The Maximum A Posteriori (MAP) estimate is the vector $\\boldsymbol{p}$, where the posterior distribution has its maximum.\n",
    "\n",
    "For the dirichlet prior on multivariate categoricals this MAP estimate is\n",
    "\n",
    "\\begin{equation}\n",
    "\\boldsymbol{p}_{\\text{MAP}} = \\cfrac{m(x) + \\alpha_{\\text{posterior}}(x) -1}{m -|\\mathcal{X}| + \\sum_{x'\\in\\mathcal{X}}\\alpha_{\\text{posterior}}(x')}\\,.\n",
    "\\end{equation}\n",
    "\n",
    "### Task 3\n",
    "Implement this estimator within the `estimate_MAP` function. Calculate the MAP estimate."
   ]
  },
  {
   "cell_type": "code",
   "execution_count": 4,
   "id": "99b45bd1",
   "metadata": {
    "scrolled": true
   },
   "outputs": [
    {
     "data": {
      "text/plain": [
       "[0.16216216216216217,\n",
       " 0.20270270270270271,\n",
       " 0.1891891891891892,\n",
       " 0.14864864864864866,\n",
       " 0.16216216216216217,\n",
       " 0.13513513513513514]"
      ]
     },
     "execution_count": 4,
     "metadata": {},
     "output_type": "execute_result"
    }
   ],
   "source": [
    "def estimate_MAP(prior_alpha, evidence, categories):\n",
    "    '''\n",
    "    Calculates the maximum a posteriori estimate for p.\n",
    "    \n",
    "    @Params:\n",
    "        prior_alpha... alpha from prior distribution\n",
    "        evidence... observed evidence\n",
    "        categories... possible outcomes\n",
    "    \n",
    "    \n",
    "    @Returns:\n",
    "        estimated probability vector p_MAP\n",
    "    '''\n",
    "    \n",
    "    post_alpha = update(prior_alpha, evidence, categories)\n",
    "    return [(p-1)/(sum(post_alpha)-len(categories)) for p in post_alpha]\n",
    "\n",
    "estimate_MAP([10]*6, tosses, [1,2,3,4,5,6])"
   ]
  },
  {
   "cell_type": "markdown",
   "id": "507be7c7",
   "metadata": {},
   "source": [
    "## Comparison\n",
    "\n",
    "Both estimators yield quite different results.\n",
    "This is due to the small number of 20 tosses that we observed so far.\n",
    "\n",
    "Load all 200 observations stored in `die2.npy`."
   ]
  },
  {
   "cell_type": "code",
   "execution_count": 5,
   "id": "cde9d189",
   "metadata": {},
   "outputs": [],
   "source": [
    "tosses = np.load('die2.npy')"
   ]
  },
  {
   "cell_type": "markdown",
   "id": "76d8901e",
   "metadata": {},
   "source": [
    "### Task 4\n",
    "\n",
    "- Estimate $p_{\\text{ML}}$ and $p_{\\text{MAP}}$ for an increasing amount of observations.\n",
    "In each iteration, use 5 observations more than before. That is in the first iteration you use the first 5 observations, in the second iteraton you use the first 10 iterations and so on.\n",
    "\n",
    "- Visualize, how the estimates change with more available data.\n",
    "You can use the `utils.create_animation` function or write your own visualization.\n",
    "\n",
    "- Briefly describe, what you observe. Finally, do you think the die is unfair?"
   ]
  },
  {
   "cell_type": "code",
   "execution_count": 6,
   "id": "2d04db9b",
   "metadata": {},
   "outputs": [],
   "source": [
    "n = 5\n",
    "pmls = []\n",
    "pmaps = []\n",
    "while n < 200:\n",
    "    pmls.append(estimate_ML(tosses[:n], [1,2,3,4,5,6]))\n",
    "    pmaps.append(estimate_MAP([10]*6, tosses[:n], [1,2,3,4,5,6])) # Still using the same prior\n",
    "    n += 5"
   ]
  },
  {
   "cell_type": "code",
   "execution_count": 8,
   "id": "de7dac71",
   "metadata": {},
   "outputs": [
    {
     "data": {
      "image/png": "[encoded data removed]",
      "text/plain": [
       "<Figure size 640x480 with 1 Axes>"
      ]
     },
     "metadata": {},
     "output_type": "display_data"
    }
   ],
   "source": [
    "from utils import create_animation\n",
    "create_animation(pmaps, pmls, 10, 10).save('anim.gif')"
   ]
  },
  {
   "cell_type": "markdown",
   "id": "d2435cf1-8aa2-4e12-bde7-b4d30071a2d8",
   "metadata": {},
   "source": [
    "While the MAP estimate with the uniform prior is influenced slowly by the data, causing the probabilities to only shift slightly even at the start, the ML estimate starts out changing drastically with each new iteration.\n",
    "It, however, also stabilizes the more data is incorporated.\n",
    "Both estimates seem to converge to a similar result that implies an unfair die, with 3 being the lowest probability outcome (around 0.09) and 2 being the highest one (around 0.235)."
   ]
  }
 ],
 "metadata": {
  "kernelspec": {
   "display_name": "Python 3 (ipykernel)",
   "language": "python",
   "name": "python3"
  },
  "language_info": {
   "codemirror_mode": {
    "name": "ipython",
    "version": 3
   },
   "file_extension": ".py",
   "mimetype": "text/x-python",
   "name": "python",
   "nbconvert_exporter": "python",
   "pygments_lexer": "ipython3",
   "version": "3.10.6"
  }
 },
 "nbformat": 4,
 "nbformat_minor": 5
}
