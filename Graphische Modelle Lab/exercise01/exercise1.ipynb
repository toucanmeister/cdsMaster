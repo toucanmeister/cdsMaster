{
 "cells": [
  {
   "cell_type": "markdown",
   "id": "ce6eb788",
   "metadata": {},
   "source": [
    "# Exercise 1 - Inference Queries, Independence\n",
    "\n",
    "In this exercise, we will answer inference queries from a probability table and check for marginal independence.\n",
    "\n",
    "In the event of a persistent problem, do not hesitate to contact the course instructors under\n",
    "- paul.kahlmeyer@uni-jena.de\n",
    "\n",
    "### Submission\n",
    "\n",
    "- Deadline of submission:\n",
    "        30.10.2022\n",
    "- Submission on [moodle page](https://moodle.uni-jena.de/course/view.php?id=34630)\n",
    "\n",
    "### Help\n",
    "In case you cannot solve a task, you can use the saved values within the `help` directory:\n",
    "- Load arrays with [Numpy](https://numpy.org/doc/stable/reference/generated/numpy.load.html)\n",
    "```\n",
    "np.load('help/array_name.npy')\n",
    "```\n",
    "- Load functions with [Dill](https://dill.readthedocs.io/en/latest/dill.html)\n",
    "```\n",
    "import dill\n",
    "with open('help/some_func.pkl', 'rb') as f:\n",
    "    func = dill.load(f)\n",
    "```\n",
    "\n",
    "to continue working on the other tasks."
   ]
  },
  {
   "cell_type": "markdown",
   "id": "4d5596d9",
   "metadata": {},
   "source": [
    "# Probability Table\n",
    "\n",
    "We will use a probability table derived from the [migraine dataset](https://www.kaggle.com/datasets/weinoose/migraine-classification). \n",
    "Due to the lack of description, we can only guess what some of the attributes stand for exactly.\n",
    "Nevertheless, we have 11 discrete features from patients suffering from migraine.\n",
    "\n",
    "1. `Age`: the age of the patient in intervals of 20 years\n",
    "    - 0: $\\leq 20$\n",
    "    - 1: $\\in (20, 40]$\n",
    "    - 2: $\\in (40, 60]$\n",
    "    - 3: $>60$\n",
    "2. `Duration`: how long did the migraine attack last?\n",
    "    - 0: short\n",
    "    - 1: normal\n",
    "    - 2: long\n",
    "3. `Intensity`: how intense was the migraine attack?\n",
    "    - 0: very light\n",
    "    - 1: light\n",
    "    - 2: intense\n",
    "    - 3: very intense\n",
    "4. `Nausea`: did patient feel sick?\n",
    "    - 0: no\n",
    "    - 1: yes\n",
    "5. `Vomit`: did the migraine attack cause the patient to vomit?\n",
    "    - 0: no\n",
    "    - 1: yes\n",
    "6. `Phonophobia`: did the patient feel specifically sensitive for sound?\n",
    "    - 0: no\n",
    "    - 1: yes\n",
    "7. `Photophobia`: did the patient feel specifically sensitive for light?\n",
    "    - 0: no\n",
    "    - 1: yes\n",
    "8. `Tinnitus`: did the patient suffer from tinnitus?\n",
    "    - 0: no\n",
    "    - 1: yes\n",
    "9. `Conscience`: did the patient loos conscience?\n",
    "    - 0: no\n",
    "    - 1: yes\n",
    "10. `Paresthesia`: did the patient feel numbness?\n",
    "    - 0: no\n",
    "    - 1: yes\n",
    "11. `Type`: What kind of migraine did the patient have?\n",
    "    - 0: Basilar-type aura\n",
    "    - 1: Familial hemiplegic migraine\n",
    "    - 2: Migraine without aura\n",
    "    - 3: Other\n",
    "    - 4: Sporadic hemiplegic migraine\n",
    "    - 5: Typical aura with migraine\n",
    "    - 6: Typical aura without migraine"
   ]
  },
  {
   "cell_type": "markdown",
   "id": "018dbe2f",
   "metadata": {},
   "source": [
    "### Task 1\n",
    "\n",
    "Load the probability table from `prob_table.npy`.\n",
    "The first 11 columns correspond to the features, the last column holds the probabilty."
   ]
  },
  {
   "cell_type": "code",
   "execution_count": 7,
   "id": "355cb6d8",
   "metadata": {},
   "outputs": [],
   "source": [
    "columns = ['Age', \n",
    "           'Duration', \n",
    "           'Intensity', \n",
    "           'Nausea', \n",
    "           'Vomit', \n",
    "           'Phonophobia',\n",
    "           'Photophobia', \n",
    "           'Vertigo', # Fehlt in der Erklärung, daher auch 12 columns plus probability\n",
    "           'Tinnitus', \n",
    "           'Conscience', \n",
    "           'Paresthesia',\n",
    "           'Type',\n",
    "           'Probability']\n",
    "\n",
    "import numpy as np\n",
    "import pandas as pd\n",
    "import dill\n",
    "prob_table = np.load('prob_table.npy')"
   ]
  },
  {
   "cell_type": "markdown",
   "id": "53f1cb22",
   "metadata": {},
   "source": [
    "# Inference Queries\n",
    "\n",
    "The probability table encodes the joint probability distribution $p(x_1, \\dots, x_{11})$, where $x_i$ corresponds to the $i$-th feature. The whole point of having such a distribution is to answer queries with it.\n",
    "\n",
    "## Prior Marginal\n",
    "For the prior marginal, a subset of indices $I\\subseteq\\{1,\\dots, 11\\}$ is given and the marginal distribution \n",
    "\n",
    "\\begin{equation}\n",
    "p(x_I)\n",
    "\\end{equation}\n",
    "\n",
    "has to be computed.\n",
    "\n",
    "### Task 2\n",
    "\n",
    "Calculate the marginal distribution of `Vertigo` and `Vomit`."
   ]
  },
  {
   "cell_type": "code",
   "execution_count": 8,
   "id": "d740036d",
   "metadata": {},
   "outputs": [
    {
     "data": {
      "text/plain": [
       "array([[0.        , 0.        , 0.25076552],\n",
       "       [0.        , 1.        , 0.24964624],\n",
       "       [1.        , 0.        , 0.25010439],\n",
       "       [1.        , 1.        , 0.24948385]])"
      ]
     },
     "execution_count": 8,
     "metadata": {},
     "output_type": "execute_result"
    }
   ],
   "source": [
    "def prior_marginal(prob_table:np.ndarray, I:np.ndarray) -> np.ndarray:\n",
    "    '''\n",
    "    Computes the probability table for a subset of the indices.\n",
    "    \n",
    "    @Params:\n",
    "        prob_table... numpy array with columns holding values, last column holding the probabilities\n",
    "        I... numpy array with indices\n",
    "    \n",
    "    @Returns:\n",
    "        numpy array with columns holding values, last column holding the probabilities for indices in I\n",
    "    '''\n",
    "    dataframe = pd.DataFrame(prob_table, columns=columns)\n",
    "    col_names = [columns[i] for i in I]\n",
    "    grouped = dataframe.groupby(col_names)['Probability'].sum() # Groups by the selected columns, summing the probabilities\n",
    "    vals = np.array(list(grouped.index.values)) # The last lines just turn the output into a neat numpy array\n",
    "    if len(vals.shape) < 2:\n",
    "        vals = np.array([vals]).T\n",
    "    probs = np.array([grouped.to_numpy()]).T\n",
    "    return np.hstack((vals, probs))\n",
    "\n",
    "prior_marginal(prob_table, [4,7])"
   ]
  },
  {
   "cell_type": "markdown",
   "id": "ebf2ba3b",
   "metadata": {},
   "source": [
    "## Posterior Marginal\n",
    "For the posterior marginal, two subsets of indices $I, J\\subseteq\\{1,\\dots, 11\\}$ together with values $e_J\\in \\mathcal{X}_J$ are given and the conditional distribution \n",
    "\n",
    "\\begin{equation}\n",
    "p(x_I|x_J=e_J) \n",
    "\\end{equation}\n",
    "\n",
    "has to be computed.\n",
    "\n",
    "### Task 3\n",
    "Calculate the posterior marginal distribution of `Type` given we observe the patient feels sick (`Nausea`=1) but no has no tinitus (`Tinnitus`=0)."
   ]
  },
  {
   "cell_type": "code",
   "execution_count": 9,
   "id": "6d6dd8e9",
   "metadata": {},
   "outputs": [
    {
     "data": {
      "text/plain": [
       "array([[0.        , 0.03569523],\n",
       "       [1.        , 0.03573003],\n",
       "       [2.        , 0.0359794 ],\n",
       "       [3.        , 0.03569523],\n",
       "       [4.        , 0.03568943],\n",
       "       [5.        , 0.03706389],\n",
       "       [6.        , 0.03572423]])"
      ]
     },
     "execution_count": 9,
     "metadata": {},
     "output_type": "execute_result"
    }
   ],
   "source": [
    "def posterior_marginal(prob_table:np.ndarray, I:np.ndarray, J:np.ndarray, e_J:np.ndarray) -> np.ndarray:\n",
    "    '''\n",
    "    Computes the probability table for a subset of the indices given other subset is set to values.\n",
    "    \n",
    "    @Params:\n",
    "        prob_table... numpy array with columns holding values, last column holding the probabilities\n",
    "        I... numpy array with indices\n",
    "        J... numpy array with indices\n",
    "        e_J... numpy array with values for J\n",
    "    \n",
    "    @Returns:\n",
    "        numpy array with columns holding values, last column holding the probabilities for indices in I\n",
    "    '''\n",
    "    table = prob_table\n",
    "    for index in range(len(J)): # Leaves only the rows that satisfy the conditions\n",
    "        j = J[index]\n",
    "        e = e_J[index]\n",
    "        table = table[table[:,j] == e]\n",
    "    dataframe = pd.DataFrame(table, columns=columns)\n",
    "    col_names = [columns[i] for i in I]\n",
    "    grouped = dataframe.groupby(col_names)['Probability'].sum() # Groups by the selected columns, summing the probabilities\n",
    "    vals = np.array(list(grouped.index.values)) # The last lines just turn the output into a neat numpy array\n",
    "    if len(vals.shape) < 2:\n",
    "        vals = np.array([vals]).T\n",
    "    probs = np.array([grouped.to_numpy()]).T\n",
    "    return np.hstack((vals, probs))\n",
    "\n",
    "posterior_marginal(prob_table, [11], [3,8], [1,0])"
   ]
  },
  {
   "cell_type": "markdown",
   "id": "0b83ff5f",
   "metadata": {},
   "source": [
    "## Probability of Evidence\n",
    "\n",
    "For a subsets of indices $I, J \\subseteq \\{1, \\dots, 11\\}$ and evidence $e_I\\in \\mathcal{X}_I$ and $e_J\\in\\mathcal{X}_J$ compute the posterior marginal probability \n",
    "\n",
    "\\begin{equation}\n",
    "p(x_I = e_I| x_J = e_J)\\,.\n",
    "\\end{equation}\n",
    "\n",
    "In the special case $J = \\emptyset$, compute the prior marginal probability $p(x_I = e_I)$.\n",
    "\n",
    "### Task 4\n",
    "\n",
    "Calculate the probability of a short attack (`Duration` = 0) given the patient is $\\leq 20$ years (`Age` = 0) old and experiences swindle (`Vertigo` = 1)."
   ]
  },
  {
   "cell_type": "code",
   "execution_count": 10,
   "id": "618221ac",
   "metadata": {},
   "outputs": [
    {
     "data": {
      "text/plain": [
       "0.04158160898209149"
      ]
     },
     "execution_count": 10,
     "metadata": {},
     "output_type": "execute_result"
    }
   ],
   "source": [
    "def prob_of_evidence(prob_table:np.ndarray, I:np.ndarray, e_I: np.ndarray, J:np.ndarray, e_J:np.ndarray) -> float:\n",
    "    '''\n",
    "    Computes the probability of I being e_I given J is e_J.\n",
    "    \n",
    "    @Params:\n",
    "        prob_table... numpy array with columns holding values, last column holding the probabilities\n",
    "        I... numpy array with indices\n",
    "        e_I... numpy array with values for I\n",
    "        J... numpy array with indices\n",
    "        e_J... numpy array with values for J\n",
    "    \n",
    "    @Returns:\n",
    "        probability of I being e_I given J is e_J.\n",
    "    '''\n",
    "\n",
    "    table = posterior_marginal(prob_table, I, J, e_J)\n",
    "    for i in range(len(I)): # Leaves only the rows that satisfy the conditions\n",
    "        e = e_I[i]\n",
    "        table = table[table[:,i] == e]\n",
    "    return table[0,1]\n",
    "\n",
    "prob_of_evidence(prob_table, [1], [0], [0,7], [0,1])"
   ]
  },
  {
   "cell_type": "markdown",
   "id": "32e25fa4",
   "metadata": {},
   "source": [
    "## Most probable explanation (MPE)\n",
    "\n",
    "Given evidence $e_J\\in\\mathcal{X}_J$ for a subset of indices $J\\subseteq\\{1,\\dots, 11\\}$, compute\n",
    "\n",
    "\\begin{equation}\n",
    "\\text{argmax}_{x\\in\\mathcal{X}} p(x|x_J = e_J)\\,.\n",
    "\\end{equation}\n",
    "\n",
    "### Task 5\n",
    "\n",
    "What is the intesity of the most probable explanation for a long (`Duration` = 2) migraine attack of a 30 years old (`Age` = 1) patient with Tinitus (`Tinnitus` = 1), both Phono- and Photophobia (`Phonophobia` = 1, `Photophobia` = 1) where we know that it is of the type \"Basilar-type aura\" (`Type` = 0)?"
   ]
  },
  {
   "cell_type": "code",
   "execution_count": 11,
   "id": "7401d7f1",
   "metadata": {},
   "outputs": [
    {
     "data": {
      "text/plain": [
       "array([[1.00000000e+00, 2.00000000e+00, 3.00000000e+00, 1.00000000e+00,\n",
       "        0.00000000e+00, 1.00000000e+00, 1.00000000e+00, 0.00000000e+00,\n",
       "        1.00000000e+00, 0.00000000e+00, 0.00000000e+00, 0.00000000e+00,\n",
       "        1.73981628e-05],\n",
       "       [1.00000000e+00, 2.00000000e+00, 3.00000000e+00, 1.00000000e+00,\n",
       "        0.00000000e+00, 1.00000000e+00, 1.00000000e+00, 1.00000000e+00,\n",
       "        1.00000000e+00, 0.00000000e+00, 0.00000000e+00, 0.00000000e+00,\n",
       "        1.73981628e-05]])"
      ]
     },
     "execution_count": 11,
     "metadata": {},
     "output_type": "execute_result"
    }
   ],
   "source": [
    "def most_prob_explanation(prob_table:np.ndarray, J:np.ndarray, e_J:np.ndarray) -> np.ndarray:\n",
    "    '''\n",
    "    Computes the most probable x given some evidence\n",
    "    \n",
    "    @Params:\n",
    "        prob_table... numpy array with columns holding values, last column holding the probabilities\n",
    "        J... numpy array with indices\n",
    "        e_J... numpy array with values for J\n",
    "    \n",
    "    @Returns:\n",
    "        x that maximizes probability of x given J is set to e_J\n",
    "    '''\n",
    "    table = posterior_marginal(prob_table, [0,1,2,3,4,5,6,7,8,9,10,11], J, e_J) # Leaves only the rows where the conditions hold\n",
    "    return table[table[:,-1] == table[:,-1].max()] # Return the row(s) with maximum probability\n",
    "\n",
    "most_prob_explanation(prob_table, [0,1,5,6,8,11], [1,2,1,1,1,0])"
   ]
  },
  {
   "cell_type": "markdown",
   "id": "eed19568",
   "metadata": {},
   "source": [
    "### Maximum a Posteriori hypothesis (MAP)\n",
    "\n",
    "For a subsets of indices $I, J \\subseteq \\{1, \\dots, 11\\}$ and evidence $e_J\\in\\mathcal{X}_J$ compute \n",
    "\n",
    "\\begin{equation}\n",
    "\\text{argmax}_{x_I} p(x_I|x_J = e_J)\\,.\n",
    "\\end{equation}\n",
    "\n",
    "### Task 6\n",
    "What is the maximum a posteriori hypothesis for the type of migraine attack (`Type`) of a 15 year old person (`Age` = 0) that has tinnitus (`Tinnitus` = 1)?"
   ]
  },
  {
   "cell_type": "code",
   "execution_count": 12,
   "id": "f5abab7d",
   "metadata": {},
   "outputs": [
    {
     "data": {
      "text/plain": [
       "array([[1.        , 0.01782732]])"
      ]
     },
     "execution_count": 12,
     "metadata": {},
     "output_type": "execute_result"
    }
   ],
   "source": [
    "def max_a_posteriori(prob_table:np.ndarray, I:np.ndarray, J:np.ndarray, e_J:np.ndarray) -> np.ndarray:\n",
    "    '''\n",
    "    Computes the most probable x given some evidence\n",
    "    \n",
    "    @Params:\n",
    "        prob_table... numpy array with columns holding values, last column holding the probabilities\n",
    "        I... numpy array with indices\n",
    "        J... numpy array with indices\n",
    "        e_J... numpy array with values for J\n",
    "    \n",
    "    @Returns:\n",
    "        x_I that maximizes probability of x given J is set to e_J\n",
    "    '''\n",
    "    table = posterior_marginal(prob_table, I, J, e_J) # Returns the posterior marginal of the variables specified by I\n",
    "    return table[table[:,-1] == table[:,-1].max()] # Return the row with maximum probability\n",
    "\n",
    "max_a_posteriori(prob_table, [11], [0,8], [0,1])"
   ]
  },
  {
   "cell_type": "markdown",
   "id": "f4d3a55f",
   "metadata": {},
   "source": [
    "# Independence\n",
    "\n",
    "As pointed out in the lecture, the number of parameters reduces if we know two features are independent.\n",
    "Independence of features also has great value for the interpretation of data: One feature does not contain any information about the other.\n",
    "\n",
    "Here we want to look at **marginal independence**. Two features $x_i, x_j$ are marginally independent, if\n",
    "\\begin{equation}\n",
    "p(x_i, x_j) = p(x_i)p(x_j)\\,.\n",
    "\\end{equation}\n",
    "\n",
    "Of course in real data we will never have perfect marginal independence.\n",
    "\n",
    "### Task 7\n",
    "Implement the function `independence_error`, that calculates how similar the vectors\n",
    "\\begin{align}\n",
    "v_1 &= \\left[p(x_i = e_i, x_j = e_j)\\right]_{e_i\\in\\mathcal{X}_i,e_j\\in\\mathcal{X}_j}\\\\\n",
    "v_2 &= \\left[p(x_i = e_i)p(x_j = e_j)\\right]_{e_i\\in\\mathcal{X}_i,e_j\\in\\mathcal{X}_j}\\\\\n",
    "\\end{align}\n",
    "are. If they are very similar, they are close to being marginally independent.\n",
    "\n",
    "Which features are closest to being marginally independent from `Type`?"
   ]
  },
  {
   "cell_type": "code",
   "execution_count": 13,
   "id": "404350ea",
   "metadata": {},
   "outputs": [
    {
     "name": "stdout",
     "output_type": "stream",
     "text": [
      "Type and Age: 0.000491144450742104\n",
      "Type and Duration: 0.00047312471376042946\n",
      "Type and Intensity: 0.0006689385745864952\n",
      "Type and Nausea: 0.0008619743780921558\n",
      "Type and Vomit: 0.00046993221677922684\n",
      "Type and Phonophobia: 0.0008705248413889781\n",
      "Type and Photophobia: 0.0008684019145065829\n",
      "Type and Vertigo: 0.0008800343231366438\n",
      "Type and Tinnitus: 0.0008908473316882825\n",
      "Type and Conscience: 0.0008555802891183125\n",
      "Type and Paresthesia: 0.000858599505828171\n",
      "Type and Type: 0.3239701450406122\n",
      "\n",
      "Closes feature to being marginally independent from Type: Vomit with 0.00046993221677922684\n"
     ]
    }
   ],
   "source": [
    "def independence_error(prob_table : np.ndarray, i : int, j : int) -> float:\n",
    "    '''\n",
    "    Compares the vectors p(x_i, x_j) and p(x_i)*p(x_j).\n",
    "    \n",
    "    @Params:\n",
    "        prob_table... numpy array with columns holding values, last column holding the probabilities\n",
    "        i... index of first feature\n",
    "        j... index of second feature\n",
    "        \n",
    "    @Returns:\n",
    "        difference of vectors p(x_i, x_j) and p(x_i)*p(x_j)\n",
    "    '''\n",
    "    \n",
    "    v1 = prior_marginal(prob_table, [i,j])[:,2]\n",
    "    v2_i = prior_marginal(prob_table, [i])\n",
    "    v2_j = prior_marginal(prob_table, [j])\n",
    "    v2 = np.outer(v2_i[:,1], v2_j[:,1]).flatten()\n",
    "    if i == j:\n",
    "        v2 = v2_i[:,1] * v2_j[:,1]\n",
    "    \n",
    "    return np.abs(v1-v2)\n",
    "\n",
    "minimum = 100\n",
    "for i in range(12):\n",
    "    norm = np.linalg.norm(independence_error(prob_table, i, 11))\n",
    "    print(f'Type and {columns[i]}: {norm}')\n",
    "    if norm < minimum:\n",
    "        minimum = norm\n",
    "        feature = columns[i]\n",
    "print(f'\\nCloses feature to being marginally independent from Type: {feature} with {minimum}')"
   ]
  }
 ],
 "metadata": {
  "kernelspec": {
   "display_name": "Python 3 (ipykernel)",
   "language": "python",
   "name": "python3"
  },
  "language_info": {
   "codemirror_mode": {
    "name": "ipython",
    "version": 3
   },
   "file_extension": ".py",
   "mimetype": "text/x-python",
   "name": "python",
   "nbconvert_exporter": "python",
   "pygments_lexer": "ipython3",
   "version": "3.10.6"
  }
 },
 "nbformat": 4,
 "nbformat_minor": 5
}
